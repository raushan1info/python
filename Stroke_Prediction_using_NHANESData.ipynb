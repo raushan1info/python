{
  "nbformat": 4,
  "nbformat_minor": 0,
  "metadata": {
    "colab": {
      "name": "Stroke_Prediction_using_NHANESData",
      "provenance": [],
      "collapsed_sections": [],
      "toc_visible": true,
      "authorship_tag": "ABX9TyPIOKDgupn7ayYjG/68d2P5",
      "include_colab_link": true
    },
    "kernelspec": {
      "name": "python3",
      "display_name": "Python 3"
    },
    "language_info": {
      "name": "python"
    }
  },
  "cells": [
    {
      "cell_type": "markdown",
      "metadata": {
        "id": "view-in-github",
        "colab_type": "text"
      },
      "source": [
        "<a href=\"https://colab.research.google.com/github/raushan1info/python/blob/master/Stroke_Prediction_using_NHANESData.ipynb\" target=\"_parent\"><img src=\"https://colab.research.google.com/assets/colab-badge.svg\" alt=\"Open In Colab\"/></a>"
      ]
    },
    {
      "cell_type": "markdown",
      "source": [
        "# Loading Data for Preprocessing"
      ],
      "metadata": {
        "id": "TVCREV0nHrt4"
      }
    },
    {
      "cell_type": "code",
      "metadata": {
        "id": "fGRQ3SxbFMKa"
      },
      "source": [
        "# Importing useful liberary for this project\n",
        "import sklearn\n",
        "import pandas as pd\n",
        "import numpy as np\n",
        "import seaborn as sns\n",
        "import matplotlib.pyplot as plt\n",
        "import os"
      ],
      "execution_count": null,
      "outputs": []
    },
    {
      "cell_type": "code",
      "metadata": {
        "id": "bGda8kLByr7n"
      },
      "source": [
        "# Datafile path and explicitly declaring dfs name\n",
        "path=['https://raw.githubusercontent.com/raushan1info/python/master/Medical_Data/demographic.csv',\n",
        "      'https://raw.githubusercontent.com/raushan1info/python/master/Medical_Data/diet.csv',\n",
        "      'https://raw.githubusercontent.com/raushan1info/python/master/Medical_Data/examination.csv',\n",
        "      'https://raw.githubusercontent.com/raushan1info/python/master/Medical_Data/labs.csv',\n",
        "      'https://raw.githubusercontent.com/raushan1info/python/master/Medical_Data/medications.csv',\n",
        "      'https://raw.githubusercontent.com/raushan1info/python/master/Medical_Data/questionnaire.csv']\n",
        "dfname=['demo','diet','exam','lab','medi','quest']"
      ],
      "execution_count": null,
      "outputs": []
    },
    {
      "cell_type": "code",
      "source": [
        "# from google.colab import drive\n",
        "# drive.mount('/content/drive')"
      ],
      "metadata": {
        "id": "83o9n1YCIMAR"
      },
      "execution_count": null,
      "outputs": []
    },
    {
      "cell_type": "code",
      "metadata": {
        "id": "yzIi8-ZJ4d07"
      },
      "source": [
        "# creating dfs \n",
        "df={}\n",
        "dfn=dict(zip(dfname,path))\n",
        "df={key:pd.read_csv(value,encoding= 'unicode_escape') for key, value in dfn.items()}"
      ],
      "execution_count": null,
      "outputs": []
    },
    {
      "cell_type": "code",
      "metadata": {
        "id": "KdsFWZ5q4fEM"
      },
      "source": [
        "# Creating \n",
        "Xs={k : v for k,v in df.items() if k in ['demo','exam','lab']}\n",
        "dfs=Xs.values()"
      ],
      "execution_count": null,
      "outputs": []
    },
    {
      "cell_type": "code",
      "metadata": {
        "id": "qJzEWFrY4fTu"
      },
      "source": [
        "# Importing this lib which enable us to work with other functions and callable objects to use or extend them without completely rewriting them\n",
        "from functools import partial,reduce"
      ],
      "execution_count": null,
      "outputs": []
    },
    {
      "cell_type": "code",
      "metadata": {
        "id": "b4qOvEIb4faF"
      },
      "source": [
        "# creating a function using other functions\n",
        "inner_join=partial(pd.merge,how='inner',on='SEQN')"
      ],
      "execution_count": null,
      "outputs": []
    },
    {
      "cell_type": "code",
      "metadata": {
        "id": "sRX_RMnyGSyD",
        "colab": {
          "base_uri": "https://localhost:8080/",
          "height": 488
        },
        "outputId": "250f8b13-b6fc-4b83-89e1-8dda6ea4019f"
      },
      "source": [
        "c=reduce(inner_join,dfs)\n",
        "c"
      ],
      "execution_count": null,
      "outputs": [
        {
          "output_type": "execute_result",
          "data": {
            "text/plain": [
              "       SEQN  SDDSRVYR  RIDSTATR  RIAGENDR  RIDAGEYR  RIDAGEMN  RIDRETH1  \\\n",
              "0     73557         8         2         1        69       NaN         4   \n",
              "1     73558         8         2         1        54       NaN         3   \n",
              "2     73559         8         2         1        72       NaN         3   \n",
              "3     73560         8         2         1         9       NaN         3   \n",
              "4     73561         8         2         2        73       NaN         3   \n",
              "...     ...       ...       ...       ...       ...       ...       ...   \n",
              "9808  83727         8         2         1        26       NaN         2   \n",
              "9809  83728         8         2         2         2      24.0         1   \n",
              "9810  83729         8         2         2        42       NaN         4   \n",
              "9811  83730         8         2         1         7       NaN         2   \n",
              "9812  83731         8         2         1        11       NaN         5   \n",
              "\n",
              "      RIDRETH3  RIDEXMON  RIDEXAGM  ...  URXUTL  URDUTLLC  URXUTU  URDUTULC  \\\n",
              "0            4       1.0       NaN  ...     NaN       NaN     NaN       NaN   \n",
              "1            3       1.0       NaN  ...     NaN       NaN     NaN       NaN   \n",
              "2            3       2.0       NaN  ...     NaN       NaN     NaN       NaN   \n",
              "3            3       1.0     119.0  ...   0.062       0.0   0.238       0.0   \n",
              "4            3       1.0       NaN  ...     NaN       NaN     NaN       NaN   \n",
              "...        ...       ...       ...  ...     ...       ...     ...       ...   \n",
              "9808         2       2.0       NaN  ...     NaN       NaN     NaN       NaN   \n",
              "9809         1       2.0      24.0  ...     NaN       NaN     NaN       NaN   \n",
              "9810         4       2.0       NaN  ...   0.135       0.0   0.132       0.0   \n",
              "9811         2       1.0      84.0  ...     NaN       NaN     NaN       NaN   \n",
              "9812         6       1.0     140.0  ...   0.242       0.0   0.932       0.0   \n",
              "\n",
              "      URXUUR  URDUURLC  URXPREG  URXUAS  LBDB12  LBDB12SI  \n",
              "0        NaN       NaN      NaN     NaN   524.0     386.7  \n",
              "1        NaN       NaN      NaN     NaN   507.0     374.2  \n",
              "2        NaN       NaN      NaN     NaN   732.0     540.2  \n",
              "3     0.0071       0.0      NaN    3.83     NaN       NaN  \n",
              "4        NaN       NaN      NaN     NaN   225.0     166.1  \n",
              "...      ...       ...      ...     ...     ...       ...  \n",
              "9808     NaN       NaN      NaN     NaN   720.0     531.4  \n",
              "9809     NaN       NaN      NaN     NaN     NaN       NaN  \n",
              "9810  0.0081       0.0      2.0    9.75   388.0     286.3  \n",
              "9811     NaN       NaN      NaN     NaN     NaN       NaN  \n",
              "9812  0.0061       0.0      NaN    7.25     NaN       NaN  \n",
              "\n",
              "[9813 rows x 693 columns]"
            ],
            "text/html": [
              "\n",
              "  <div id=\"df-d639032b-8164-4446-9f04-f66954b56f33\">\n",
              "    <div class=\"colab-df-container\">\n",
              "      <div>\n",
              "<style scoped>\n",
              "    .dataframe tbody tr th:only-of-type {\n",
              "        vertical-align: middle;\n",
              "    }\n",
              "\n",
              "    .dataframe tbody tr th {\n",
              "        vertical-align: top;\n",
              "    }\n",
              "\n",
              "    .dataframe thead th {\n",
              "        text-align: right;\n",
              "    }\n",
              "</style>\n",
              "<table border=\"1\" class=\"dataframe\">\n",
              "  <thead>\n",
              "    <tr style=\"text-align: right;\">\n",
              "      <th></th>\n",
              "      <th>SEQN</th>\n",
              "      <th>SDDSRVYR</th>\n",
              "      <th>RIDSTATR</th>\n",
              "      <th>RIAGENDR</th>\n",
              "      <th>RIDAGEYR</th>\n",
              "      <th>RIDAGEMN</th>\n",
              "      <th>RIDRETH1</th>\n",
              "      <th>RIDRETH3</th>\n",
              "      <th>RIDEXMON</th>\n",
              "      <th>RIDEXAGM</th>\n",
              "      <th>...</th>\n",
              "      <th>URXUTL</th>\n",
              "      <th>URDUTLLC</th>\n",
              "      <th>URXUTU</th>\n",
              "      <th>URDUTULC</th>\n",
              "      <th>URXUUR</th>\n",
              "      <th>URDUURLC</th>\n",
              "      <th>URXPREG</th>\n",
              "      <th>URXUAS</th>\n",
              "      <th>LBDB12</th>\n",
              "      <th>LBDB12SI</th>\n",
              "    </tr>\n",
              "  </thead>\n",
              "  <tbody>\n",
              "    <tr>\n",
              "      <th>0</th>\n",
              "      <td>73557</td>\n",
              "      <td>8</td>\n",
              "      <td>2</td>\n",
              "      <td>1</td>\n",
              "      <td>69</td>\n",
              "      <td>NaN</td>\n",
              "      <td>4</td>\n",
              "      <td>4</td>\n",
              "      <td>1.0</td>\n",
              "      <td>NaN</td>\n",
              "      <td>...</td>\n",
              "      <td>NaN</td>\n",
              "      <td>NaN</td>\n",
              "      <td>NaN</td>\n",
              "      <td>NaN</td>\n",
              "      <td>NaN</td>\n",
              "      <td>NaN</td>\n",
              "      <td>NaN</td>\n",
              "      <td>NaN</td>\n",
              "      <td>524.0</td>\n",
              "      <td>386.7</td>\n",
              "    </tr>\n",
              "    <tr>\n",
              "      <th>1</th>\n",
              "      <td>73558</td>\n",
              "      <td>8</td>\n",
              "      <td>2</td>\n",
              "      <td>1</td>\n",
              "      <td>54</td>\n",
              "      <td>NaN</td>\n",
              "      <td>3</td>\n",
              "      <td>3</td>\n",
              "      <td>1.0</td>\n",
              "      <td>NaN</td>\n",
              "      <td>...</td>\n",
              "      <td>NaN</td>\n",
              "      <td>NaN</td>\n",
              "      <td>NaN</td>\n",
              "      <td>NaN</td>\n",
              "      <td>NaN</td>\n",
              "      <td>NaN</td>\n",
              "      <td>NaN</td>\n",
              "      <td>NaN</td>\n",
              "      <td>507.0</td>\n",
              "      <td>374.2</td>\n",
              "    </tr>\n",
              "    <tr>\n",
              "      <th>2</th>\n",
              "      <td>73559</td>\n",
              "      <td>8</td>\n",
              "      <td>2</td>\n",
              "      <td>1</td>\n",
              "      <td>72</td>\n",
              "      <td>NaN</td>\n",
              "      <td>3</td>\n",
              "      <td>3</td>\n",
              "      <td>2.0</td>\n",
              "      <td>NaN</td>\n",
              "      <td>...</td>\n",
              "      <td>NaN</td>\n",
              "      <td>NaN</td>\n",
              "      <td>NaN</td>\n",
              "      <td>NaN</td>\n",
              "      <td>NaN</td>\n",
              "      <td>NaN</td>\n",
              "      <td>NaN</td>\n",
              "      <td>NaN</td>\n",
              "      <td>732.0</td>\n",
              "      <td>540.2</td>\n",
              "    </tr>\n",
              "    <tr>\n",
              "      <th>3</th>\n",
              "      <td>73560</td>\n",
              "      <td>8</td>\n",
              "      <td>2</td>\n",
              "      <td>1</td>\n",
              "      <td>9</td>\n",
              "      <td>NaN</td>\n",
              "      <td>3</td>\n",
              "      <td>3</td>\n",
              "      <td>1.0</td>\n",
              "      <td>119.0</td>\n",
              "      <td>...</td>\n",
              "      <td>0.062</td>\n",
              "      <td>0.0</td>\n",
              "      <td>0.238</td>\n",
              "      <td>0.0</td>\n",
              "      <td>0.0071</td>\n",
              "      <td>0.0</td>\n",
              "      <td>NaN</td>\n",
              "      <td>3.83</td>\n",
              "      <td>NaN</td>\n",
              "      <td>NaN</td>\n",
              "    </tr>\n",
              "    <tr>\n",
              "      <th>4</th>\n",
              "      <td>73561</td>\n",
              "      <td>8</td>\n",
              "      <td>2</td>\n",
              "      <td>2</td>\n",
              "      <td>73</td>\n",
              "      <td>NaN</td>\n",
              "      <td>3</td>\n",
              "      <td>3</td>\n",
              "      <td>1.0</td>\n",
              "      <td>NaN</td>\n",
              "      <td>...</td>\n",
              "      <td>NaN</td>\n",
              "      <td>NaN</td>\n",
              "      <td>NaN</td>\n",
              "      <td>NaN</td>\n",
              "      <td>NaN</td>\n",
              "      <td>NaN</td>\n",
              "      <td>NaN</td>\n",
              "      <td>NaN</td>\n",
              "      <td>225.0</td>\n",
              "      <td>166.1</td>\n",
              "    </tr>\n",
              "    <tr>\n",
              "      <th>...</th>\n",
              "      <td>...</td>\n",
              "      <td>...</td>\n",
              "      <td>...</td>\n",
              "      <td>...</td>\n",
              "      <td>...</td>\n",
              "      <td>...</td>\n",
              "      <td>...</td>\n",
              "      <td>...</td>\n",
              "      <td>...</td>\n",
              "      <td>...</td>\n",
              "      <td>...</td>\n",
              "      <td>...</td>\n",
              "      <td>...</td>\n",
              "      <td>...</td>\n",
              "      <td>...</td>\n",
              "      <td>...</td>\n",
              "      <td>...</td>\n",
              "      <td>...</td>\n",
              "      <td>...</td>\n",
              "      <td>...</td>\n",
              "      <td>...</td>\n",
              "    </tr>\n",
              "    <tr>\n",
              "      <th>9808</th>\n",
              "      <td>83727</td>\n",
              "      <td>8</td>\n",
              "      <td>2</td>\n",
              "      <td>1</td>\n",
              "      <td>26</td>\n",
              "      <td>NaN</td>\n",
              "      <td>2</td>\n",
              "      <td>2</td>\n",
              "      <td>2.0</td>\n",
              "      <td>NaN</td>\n",
              "      <td>...</td>\n",
              "      <td>NaN</td>\n",
              "      <td>NaN</td>\n",
              "      <td>NaN</td>\n",
              "      <td>NaN</td>\n",
              "      <td>NaN</td>\n",
              "      <td>NaN</td>\n",
              "      <td>NaN</td>\n",
              "      <td>NaN</td>\n",
              "      <td>720.0</td>\n",
              "      <td>531.4</td>\n",
              "    </tr>\n",
              "    <tr>\n",
              "      <th>9809</th>\n",
              "      <td>83728</td>\n",
              "      <td>8</td>\n",
              "      <td>2</td>\n",
              "      <td>2</td>\n",
              "      <td>2</td>\n",
              "      <td>24.0</td>\n",
              "      <td>1</td>\n",
              "      <td>1</td>\n",
              "      <td>2.0</td>\n",
              "      <td>24.0</td>\n",
              "      <td>...</td>\n",
              "      <td>NaN</td>\n",
              "      <td>NaN</td>\n",
              "      <td>NaN</td>\n",
              "      <td>NaN</td>\n",
              "      <td>NaN</td>\n",
              "      <td>NaN</td>\n",
              "      <td>NaN</td>\n",
              "      <td>NaN</td>\n",
              "      <td>NaN</td>\n",
              "      <td>NaN</td>\n",
              "    </tr>\n",
              "    <tr>\n",
              "      <th>9810</th>\n",
              "      <td>83729</td>\n",
              "      <td>8</td>\n",
              "      <td>2</td>\n",
              "      <td>2</td>\n",
              "      <td>42</td>\n",
              "      <td>NaN</td>\n",
              "      <td>4</td>\n",
              "      <td>4</td>\n",
              "      <td>2.0</td>\n",
              "      <td>NaN</td>\n",
              "      <td>...</td>\n",
              "      <td>0.135</td>\n",
              "      <td>0.0</td>\n",
              "      <td>0.132</td>\n",
              "      <td>0.0</td>\n",
              "      <td>0.0081</td>\n",
              "      <td>0.0</td>\n",
              "      <td>2.0</td>\n",
              "      <td>9.75</td>\n",
              "      <td>388.0</td>\n",
              "      <td>286.3</td>\n",
              "    </tr>\n",
              "    <tr>\n",
              "      <th>9811</th>\n",
              "      <td>83730</td>\n",
              "      <td>8</td>\n",
              "      <td>2</td>\n",
              "      <td>1</td>\n",
              "      <td>7</td>\n",
              "      <td>NaN</td>\n",
              "      <td>2</td>\n",
              "      <td>2</td>\n",
              "      <td>1.0</td>\n",
              "      <td>84.0</td>\n",
              "      <td>...</td>\n",
              "      <td>NaN</td>\n",
              "      <td>NaN</td>\n",
              "      <td>NaN</td>\n",
              "      <td>NaN</td>\n",
              "      <td>NaN</td>\n",
              "      <td>NaN</td>\n",
              "      <td>NaN</td>\n",
              "      <td>NaN</td>\n",
              "      <td>NaN</td>\n",
              "      <td>NaN</td>\n",
              "    </tr>\n",
              "    <tr>\n",
              "      <th>9812</th>\n",
              "      <td>83731</td>\n",
              "      <td>8</td>\n",
              "      <td>2</td>\n",
              "      <td>1</td>\n",
              "      <td>11</td>\n",
              "      <td>NaN</td>\n",
              "      <td>5</td>\n",
              "      <td>6</td>\n",
              "      <td>1.0</td>\n",
              "      <td>140.0</td>\n",
              "      <td>...</td>\n",
              "      <td>0.242</td>\n",
              "      <td>0.0</td>\n",
              "      <td>0.932</td>\n",
              "      <td>0.0</td>\n",
              "      <td>0.0061</td>\n",
              "      <td>0.0</td>\n",
              "      <td>NaN</td>\n",
              "      <td>7.25</td>\n",
              "      <td>NaN</td>\n",
              "      <td>NaN</td>\n",
              "    </tr>\n",
              "  </tbody>\n",
              "</table>\n",
              "<p>9813 rows × 693 columns</p>\n",
              "</div>\n",
              "      <button class=\"colab-df-convert\" onclick=\"convertToInteractive('df-d639032b-8164-4446-9f04-f66954b56f33')\"\n",
              "              title=\"Convert this dataframe to an interactive table.\"\n",
              "              style=\"display:none;\">\n",
              "        \n",
              "  <svg xmlns=\"http://www.w3.org/2000/svg\" height=\"24px\"viewBox=\"0 0 24 24\"\n",
              "       width=\"24px\">\n",
              "    <path d=\"M0 0h24v24H0V0z\" fill=\"none\"/>\n",
              "    <path d=\"M18.56 5.44l.94 2.06.94-2.06 2.06-.94-2.06-.94-.94-2.06-.94 2.06-2.06.94zm-11 1L8.5 8.5l.94-2.06 2.06-.94-2.06-.94L8.5 2.5l-.94 2.06-2.06.94zm10 10l.94 2.06.94-2.06 2.06-.94-2.06-.94-.94-2.06-.94 2.06-2.06.94z\"/><path d=\"M17.41 7.96l-1.37-1.37c-.4-.4-.92-.59-1.43-.59-.52 0-1.04.2-1.43.59L10.3 9.45l-7.72 7.72c-.78.78-.78 2.05 0 2.83L4 21.41c.39.39.9.59 1.41.59.51 0 1.02-.2 1.41-.59l7.78-7.78 2.81-2.81c.8-.78.8-2.07 0-2.86zM5.41 20L4 18.59l7.72-7.72 1.47 1.35L5.41 20z\"/>\n",
              "  </svg>\n",
              "      </button>\n",
              "      \n",
              "  <style>\n",
              "    .colab-df-container {\n",
              "      display:flex;\n",
              "      flex-wrap:wrap;\n",
              "      gap: 12px;\n",
              "    }\n",
              "\n",
              "    .colab-df-convert {\n",
              "      background-color: #E8F0FE;\n",
              "      border: none;\n",
              "      border-radius: 50%;\n",
              "      cursor: pointer;\n",
              "      display: none;\n",
              "      fill: #1967D2;\n",
              "      height: 32px;\n",
              "      padding: 0 0 0 0;\n",
              "      width: 32px;\n",
              "    }\n",
              "\n",
              "    .colab-df-convert:hover {\n",
              "      background-color: #E2EBFA;\n",
              "      box-shadow: 0px 1px 2px rgba(60, 64, 67, 0.3), 0px 1px 3px 1px rgba(60, 64, 67, 0.15);\n",
              "      fill: #174EA6;\n",
              "    }\n",
              "\n",
              "    [theme=dark] .colab-df-convert {\n",
              "      background-color: #3B4455;\n",
              "      fill: #D2E3FC;\n",
              "    }\n",
              "\n",
              "    [theme=dark] .colab-df-convert:hover {\n",
              "      background-color: #434B5C;\n",
              "      box-shadow: 0px 1px 3px 1px rgba(0, 0, 0, 0.15);\n",
              "      filter: drop-shadow(0px 1px 2px rgba(0, 0, 0, 0.3));\n",
              "      fill: #FFFFFF;\n",
              "    }\n",
              "  </style>\n",
              "\n",
              "      <script>\n",
              "        const buttonEl =\n",
              "          document.querySelector('#df-d639032b-8164-4446-9f04-f66954b56f33 button.colab-df-convert');\n",
              "        buttonEl.style.display =\n",
              "          google.colab.kernel.accessAllowed ? 'block' : 'none';\n",
              "\n",
              "        async function convertToInteractive(key) {\n",
              "          const element = document.querySelector('#df-d639032b-8164-4446-9f04-f66954b56f33');\n",
              "          const dataTable =\n",
              "            await google.colab.kernel.invokeFunction('convertToInteractive',\n",
              "                                                     [key], {});\n",
              "          if (!dataTable) return;\n",
              "\n",
              "          const docLinkHtml = 'Like what you see? Visit the ' +\n",
              "            '<a target=\"_blank\" href=https://colab.research.google.com/notebooks/data_table.ipynb>data table notebook</a>'\n",
              "            + ' to learn more about interactive tables.';\n",
              "          element.innerHTML = '';\n",
              "          dataTable['output_type'] = 'display_data';\n",
              "          await google.colab.output.renderOutput(dataTable, element);\n",
              "          const docLink = document.createElement('div');\n",
              "          docLink.innerHTML = docLinkHtml;\n",
              "          element.appendChild(docLink);\n",
              "        }\n",
              "      </script>\n",
              "    </div>\n",
              "  </div>\n",
              "  "
            ]
          },
          "metadata": {},
          "execution_count": 9
        }
      ]
    },
    {
      "cell_type": "code",
      "metadata": {
        "colab": {
          "base_uri": "https://localhost:8080/"
        },
        "id": "Fxf87PY4GbSg",
        "outputId": "9f8fea83-6e4c-4655-d79b-272c8ed840e5"
      },
      "source": [
        "# check duplicate SEQN count\n",
        "#c.SEQN.duplicated().value_counts()\n",
        "c.SEQN.nunique()"
      ],
      "execution_count": null,
      "outputs": [
        {
          "output_type": "execute_result",
          "data": {
            "text/plain": [
              "9813"
            ]
          },
          "metadata": {},
          "execution_count": 10
        }
      ]
    },
    {
      "cell_type": "code",
      "metadata": {
        "colab": {
          "base_uri": "https://localhost:8080/",
          "height": 424
        },
        "id": "xcri4wPPJNZr",
        "outputId": "ef959ed3-1c04-4738-d4b9-61ad95e6b98c"
      },
      "source": [
        "# combined dfs\n",
        "# MCQ160F is the target feature. MCQ160f is a question which is \"Ever told you had a stroke\". It holds numeric values which indicates 1. -> Yes,2.0 -> No , 9.0 -> Don't know\n",
        "qs=df['quest'][['SEQN','MCQ160F']]\n",
        "qs"
      ],
      "execution_count": null,
      "outputs": [
        {
          "output_type": "execute_result",
          "data": {
            "text/plain": [
              "        SEQN  MCQ160F\n",
              "0      73557      1.0\n",
              "1      73558      2.0\n",
              "2      73559      2.0\n",
              "3      73560      NaN\n",
              "4      73561      2.0\n",
              "...      ...      ...\n",
              "10170  83727      2.0\n",
              "10171  83728      NaN\n",
              "10172  83729      2.0\n",
              "10173  83730      NaN\n",
              "10174  83731      NaN\n",
              "\n",
              "[10175 rows x 2 columns]"
            ],
            "text/html": [
              "\n",
              "  <div id=\"df-be9778b4-ddc9-4479-85ba-c43cf8a0d43d\">\n",
              "    <div class=\"colab-df-container\">\n",
              "      <div>\n",
              "<style scoped>\n",
              "    .dataframe tbody tr th:only-of-type {\n",
              "        vertical-align: middle;\n",
              "    }\n",
              "\n",
              "    .dataframe tbody tr th {\n",
              "        vertical-align: top;\n",
              "    }\n",
              "\n",
              "    .dataframe thead th {\n",
              "        text-align: right;\n",
              "    }\n",
              "</style>\n",
              "<table border=\"1\" class=\"dataframe\">\n",
              "  <thead>\n",
              "    <tr style=\"text-align: right;\">\n",
              "      <th></th>\n",
              "      <th>SEQN</th>\n",
              "      <th>MCQ160F</th>\n",
              "    </tr>\n",
              "  </thead>\n",
              "  <tbody>\n",
              "    <tr>\n",
              "      <th>0</th>\n",
              "      <td>73557</td>\n",
              "      <td>1.0</td>\n",
              "    </tr>\n",
              "    <tr>\n",
              "      <th>1</th>\n",
              "      <td>73558</td>\n",
              "      <td>2.0</td>\n",
              "    </tr>\n",
              "    <tr>\n",
              "      <th>2</th>\n",
              "      <td>73559</td>\n",
              "      <td>2.0</td>\n",
              "    </tr>\n",
              "    <tr>\n",
              "      <th>3</th>\n",
              "      <td>73560</td>\n",
              "      <td>NaN</td>\n",
              "    </tr>\n",
              "    <tr>\n",
              "      <th>4</th>\n",
              "      <td>73561</td>\n",
              "      <td>2.0</td>\n",
              "    </tr>\n",
              "    <tr>\n",
              "      <th>...</th>\n",
              "      <td>...</td>\n",
              "      <td>...</td>\n",
              "    </tr>\n",
              "    <tr>\n",
              "      <th>10170</th>\n",
              "      <td>83727</td>\n",
              "      <td>2.0</td>\n",
              "    </tr>\n",
              "    <tr>\n",
              "      <th>10171</th>\n",
              "      <td>83728</td>\n",
              "      <td>NaN</td>\n",
              "    </tr>\n",
              "    <tr>\n",
              "      <th>10172</th>\n",
              "      <td>83729</td>\n",
              "      <td>2.0</td>\n",
              "    </tr>\n",
              "    <tr>\n",
              "      <th>10173</th>\n",
              "      <td>83730</td>\n",
              "      <td>NaN</td>\n",
              "    </tr>\n",
              "    <tr>\n",
              "      <th>10174</th>\n",
              "      <td>83731</td>\n",
              "      <td>NaN</td>\n",
              "    </tr>\n",
              "  </tbody>\n",
              "</table>\n",
              "<p>10175 rows × 2 columns</p>\n",
              "</div>\n",
              "      <button class=\"colab-df-convert\" onclick=\"convertToInteractive('df-be9778b4-ddc9-4479-85ba-c43cf8a0d43d')\"\n",
              "              title=\"Convert this dataframe to an interactive table.\"\n",
              "              style=\"display:none;\">\n",
              "        \n",
              "  <svg xmlns=\"http://www.w3.org/2000/svg\" height=\"24px\"viewBox=\"0 0 24 24\"\n",
              "       width=\"24px\">\n",
              "    <path d=\"M0 0h24v24H0V0z\" fill=\"none\"/>\n",
              "    <path d=\"M18.56 5.44l.94 2.06.94-2.06 2.06-.94-2.06-.94-.94-2.06-.94 2.06-2.06.94zm-11 1L8.5 8.5l.94-2.06 2.06-.94-2.06-.94L8.5 2.5l-.94 2.06-2.06.94zm10 10l.94 2.06.94-2.06 2.06-.94-2.06-.94-.94-2.06-.94 2.06-2.06.94z\"/><path d=\"M17.41 7.96l-1.37-1.37c-.4-.4-.92-.59-1.43-.59-.52 0-1.04.2-1.43.59L10.3 9.45l-7.72 7.72c-.78.78-.78 2.05 0 2.83L4 21.41c.39.39.9.59 1.41.59.51 0 1.02-.2 1.41-.59l7.78-7.78 2.81-2.81c.8-.78.8-2.07 0-2.86zM5.41 20L4 18.59l7.72-7.72 1.47 1.35L5.41 20z\"/>\n",
              "  </svg>\n",
              "      </button>\n",
              "      \n",
              "  <style>\n",
              "    .colab-df-container {\n",
              "      display:flex;\n",
              "      flex-wrap:wrap;\n",
              "      gap: 12px;\n",
              "    }\n",
              "\n",
              "    .colab-df-convert {\n",
              "      background-color: #E8F0FE;\n",
              "      border: none;\n",
              "      border-radius: 50%;\n",
              "      cursor: pointer;\n",
              "      display: none;\n",
              "      fill: #1967D2;\n",
              "      height: 32px;\n",
              "      padding: 0 0 0 0;\n",
              "      width: 32px;\n",
              "    }\n",
              "\n",
              "    .colab-df-convert:hover {\n",
              "      background-color: #E2EBFA;\n",
              "      box-shadow: 0px 1px 2px rgba(60, 64, 67, 0.3), 0px 1px 3px 1px rgba(60, 64, 67, 0.15);\n",
              "      fill: #174EA6;\n",
              "    }\n",
              "\n",
              "    [theme=dark] .colab-df-convert {\n",
              "      background-color: #3B4455;\n",
              "      fill: #D2E3FC;\n",
              "    }\n",
              "\n",
              "    [theme=dark] .colab-df-convert:hover {\n",
              "      background-color: #434B5C;\n",
              "      box-shadow: 0px 1px 3px 1px rgba(0, 0, 0, 0.15);\n",
              "      filter: drop-shadow(0px 1px 2px rgba(0, 0, 0, 0.3));\n",
              "      fill: #FFFFFF;\n",
              "    }\n",
              "  </style>\n",
              "\n",
              "      <script>\n",
              "        const buttonEl =\n",
              "          document.querySelector('#df-be9778b4-ddc9-4479-85ba-c43cf8a0d43d button.colab-df-convert');\n",
              "        buttonEl.style.display =\n",
              "          google.colab.kernel.accessAllowed ? 'block' : 'none';\n",
              "\n",
              "        async function convertToInteractive(key) {\n",
              "          const element = document.querySelector('#df-be9778b4-ddc9-4479-85ba-c43cf8a0d43d');\n",
              "          const dataTable =\n",
              "            await google.colab.kernel.invokeFunction('convertToInteractive',\n",
              "                                                     [key], {});\n",
              "          if (!dataTable) return;\n",
              "\n",
              "          const docLinkHtml = 'Like what you see? Visit the ' +\n",
              "            '<a target=\"_blank\" href=https://colab.research.google.com/notebooks/data_table.ipynb>data table notebook</a>'\n",
              "            + ' to learn more about interactive tables.';\n",
              "          element.innerHTML = '';\n",
              "          dataTable['output_type'] = 'display_data';\n",
              "          await google.colab.output.renderOutput(dataTable, element);\n",
              "          const docLink = document.createElement('div');\n",
              "          docLink.innerHTML = docLinkHtml;\n",
              "          element.appendChild(docLink);\n",
              "        }\n",
              "      </script>\n",
              "    </div>\n",
              "  </div>\n",
              "  "
            ]
          },
          "metadata": {},
          "execution_count": 11
        }
      ]
    },
    {
      "cell_type": "code",
      "metadata": {
        "id": "--VMsBjiMgk9"
      },
      "source": [
        "# Merging question datafile with df (c)\n",
        "c=pd.merge(c,qs,how='left',on='SEQN')"
      ],
      "execution_count": null,
      "outputs": []
    },
    {
      "cell_type": "code",
      "metadata": {
        "colab": {
          "base_uri": "https://localhost:8080/",
          "height": 300
        },
        "id": "Gg1fAzMk-QEH",
        "outputId": "019301ca-2cda-4972-b974-89d8fa24cb8c"
      },
      "source": [
        "c.head()"
      ],
      "execution_count": null,
      "outputs": [
        {
          "output_type": "execute_result",
          "data": {
            "text/plain": [
              "    SEQN  SDDSRVYR  RIDSTATR  RIAGENDR  RIDAGEYR  RIDAGEMN  RIDRETH1  \\\n",
              "0  73557         8         2         1        69       NaN         4   \n",
              "1  73558         8         2         1        54       NaN         3   \n",
              "2  73559         8         2         1        72       NaN         3   \n",
              "3  73560         8         2         1         9       NaN         3   \n",
              "4  73561         8         2         2        73       NaN         3   \n",
              "\n",
              "   RIDRETH3  RIDEXMON  RIDEXAGM  ...  URDUTLLC  URXUTU  URDUTULC  URXUUR  \\\n",
              "0         4       1.0       NaN  ...       NaN     NaN       NaN     NaN   \n",
              "1         3       1.0       NaN  ...       NaN     NaN       NaN     NaN   \n",
              "2         3       2.0       NaN  ...       NaN     NaN       NaN     NaN   \n",
              "3         3       1.0     119.0  ...       0.0   0.238       0.0  0.0071   \n",
              "4         3       1.0       NaN  ...       NaN     NaN       NaN     NaN   \n",
              "\n",
              "   URDUURLC  URXPREG  URXUAS  LBDB12  LBDB12SI  MCQ160F  \n",
              "0       NaN      NaN     NaN   524.0     386.7      1.0  \n",
              "1       NaN      NaN     NaN   507.0     374.2      2.0  \n",
              "2       NaN      NaN     NaN   732.0     540.2      2.0  \n",
              "3       0.0      NaN    3.83     NaN       NaN      NaN  \n",
              "4       NaN      NaN     NaN   225.0     166.1      2.0  \n",
              "\n",
              "[5 rows x 694 columns]"
            ],
            "text/html": [
              "\n",
              "  <div id=\"df-842bb688-a25c-4fcf-bcc6-53d62c6c070f\">\n",
              "    <div class=\"colab-df-container\">\n",
              "      <div>\n",
              "<style scoped>\n",
              "    .dataframe tbody tr th:only-of-type {\n",
              "        vertical-align: middle;\n",
              "    }\n",
              "\n",
              "    .dataframe tbody tr th {\n",
              "        vertical-align: top;\n",
              "    }\n",
              "\n",
              "    .dataframe thead th {\n",
              "        text-align: right;\n",
              "    }\n",
              "</style>\n",
              "<table border=\"1\" class=\"dataframe\">\n",
              "  <thead>\n",
              "    <tr style=\"text-align: right;\">\n",
              "      <th></th>\n",
              "      <th>SEQN</th>\n",
              "      <th>SDDSRVYR</th>\n",
              "      <th>RIDSTATR</th>\n",
              "      <th>RIAGENDR</th>\n",
              "      <th>RIDAGEYR</th>\n",
              "      <th>RIDAGEMN</th>\n",
              "      <th>RIDRETH1</th>\n",
              "      <th>RIDRETH3</th>\n",
              "      <th>RIDEXMON</th>\n",
              "      <th>RIDEXAGM</th>\n",
              "      <th>...</th>\n",
              "      <th>URDUTLLC</th>\n",
              "      <th>URXUTU</th>\n",
              "      <th>URDUTULC</th>\n",
              "      <th>URXUUR</th>\n",
              "      <th>URDUURLC</th>\n",
              "      <th>URXPREG</th>\n",
              "      <th>URXUAS</th>\n",
              "      <th>LBDB12</th>\n",
              "      <th>LBDB12SI</th>\n",
              "      <th>MCQ160F</th>\n",
              "    </tr>\n",
              "  </thead>\n",
              "  <tbody>\n",
              "    <tr>\n",
              "      <th>0</th>\n",
              "      <td>73557</td>\n",
              "      <td>8</td>\n",
              "      <td>2</td>\n",
              "      <td>1</td>\n",
              "      <td>69</td>\n",
              "      <td>NaN</td>\n",
              "      <td>4</td>\n",
              "      <td>4</td>\n",
              "      <td>1.0</td>\n",
              "      <td>NaN</td>\n",
              "      <td>...</td>\n",
              "      <td>NaN</td>\n",
              "      <td>NaN</td>\n",
              "      <td>NaN</td>\n",
              "      <td>NaN</td>\n",
              "      <td>NaN</td>\n",
              "      <td>NaN</td>\n",
              "      <td>NaN</td>\n",
              "      <td>524.0</td>\n",
              "      <td>386.7</td>\n",
              "      <td>1.0</td>\n",
              "    </tr>\n",
              "    <tr>\n",
              "      <th>1</th>\n",
              "      <td>73558</td>\n",
              "      <td>8</td>\n",
              "      <td>2</td>\n",
              "      <td>1</td>\n",
              "      <td>54</td>\n",
              "      <td>NaN</td>\n",
              "      <td>3</td>\n",
              "      <td>3</td>\n",
              "      <td>1.0</td>\n",
              "      <td>NaN</td>\n",
              "      <td>...</td>\n",
              "      <td>NaN</td>\n",
              "      <td>NaN</td>\n",
              "      <td>NaN</td>\n",
              "      <td>NaN</td>\n",
              "      <td>NaN</td>\n",
              "      <td>NaN</td>\n",
              "      <td>NaN</td>\n",
              "      <td>507.0</td>\n",
              "      <td>374.2</td>\n",
              "      <td>2.0</td>\n",
              "    </tr>\n",
              "    <tr>\n",
              "      <th>2</th>\n",
              "      <td>73559</td>\n",
              "      <td>8</td>\n",
              "      <td>2</td>\n",
              "      <td>1</td>\n",
              "      <td>72</td>\n",
              "      <td>NaN</td>\n",
              "      <td>3</td>\n",
              "      <td>3</td>\n",
              "      <td>2.0</td>\n",
              "      <td>NaN</td>\n",
              "      <td>...</td>\n",
              "      <td>NaN</td>\n",
              "      <td>NaN</td>\n",
              "      <td>NaN</td>\n",
              "      <td>NaN</td>\n",
              "      <td>NaN</td>\n",
              "      <td>NaN</td>\n",
              "      <td>NaN</td>\n",
              "      <td>732.0</td>\n",
              "      <td>540.2</td>\n",
              "      <td>2.0</td>\n",
              "    </tr>\n",
              "    <tr>\n",
              "      <th>3</th>\n",
              "      <td>73560</td>\n",
              "      <td>8</td>\n",
              "      <td>2</td>\n",
              "      <td>1</td>\n",
              "      <td>9</td>\n",
              "      <td>NaN</td>\n",
              "      <td>3</td>\n",
              "      <td>3</td>\n",
              "      <td>1.0</td>\n",
              "      <td>119.0</td>\n",
              "      <td>...</td>\n",
              "      <td>0.0</td>\n",
              "      <td>0.238</td>\n",
              "      <td>0.0</td>\n",
              "      <td>0.0071</td>\n",
              "      <td>0.0</td>\n",
              "      <td>NaN</td>\n",
              "      <td>3.83</td>\n",
              "      <td>NaN</td>\n",
              "      <td>NaN</td>\n",
              "      <td>NaN</td>\n",
              "    </tr>\n",
              "    <tr>\n",
              "      <th>4</th>\n",
              "      <td>73561</td>\n",
              "      <td>8</td>\n",
              "      <td>2</td>\n",
              "      <td>2</td>\n",
              "      <td>73</td>\n",
              "      <td>NaN</td>\n",
              "      <td>3</td>\n",
              "      <td>3</td>\n",
              "      <td>1.0</td>\n",
              "      <td>NaN</td>\n",
              "      <td>...</td>\n",
              "      <td>NaN</td>\n",
              "      <td>NaN</td>\n",
              "      <td>NaN</td>\n",
              "      <td>NaN</td>\n",
              "      <td>NaN</td>\n",
              "      <td>NaN</td>\n",
              "      <td>NaN</td>\n",
              "      <td>225.0</td>\n",
              "      <td>166.1</td>\n",
              "      <td>2.0</td>\n",
              "    </tr>\n",
              "  </tbody>\n",
              "</table>\n",
              "<p>5 rows × 694 columns</p>\n",
              "</div>\n",
              "      <button class=\"colab-df-convert\" onclick=\"convertToInteractive('df-842bb688-a25c-4fcf-bcc6-53d62c6c070f')\"\n",
              "              title=\"Convert this dataframe to an interactive table.\"\n",
              "              style=\"display:none;\">\n",
              "        \n",
              "  <svg xmlns=\"http://www.w3.org/2000/svg\" height=\"24px\"viewBox=\"0 0 24 24\"\n",
              "       width=\"24px\">\n",
              "    <path d=\"M0 0h24v24H0V0z\" fill=\"none\"/>\n",
              "    <path d=\"M18.56 5.44l.94 2.06.94-2.06 2.06-.94-2.06-.94-.94-2.06-.94 2.06-2.06.94zm-11 1L8.5 8.5l.94-2.06 2.06-.94-2.06-.94L8.5 2.5l-.94 2.06-2.06.94zm10 10l.94 2.06.94-2.06 2.06-.94-2.06-.94-.94-2.06-.94 2.06-2.06.94z\"/><path d=\"M17.41 7.96l-1.37-1.37c-.4-.4-.92-.59-1.43-.59-.52 0-1.04.2-1.43.59L10.3 9.45l-7.72 7.72c-.78.78-.78 2.05 0 2.83L4 21.41c.39.39.9.59 1.41.59.51 0 1.02-.2 1.41-.59l7.78-7.78 2.81-2.81c.8-.78.8-2.07 0-2.86zM5.41 20L4 18.59l7.72-7.72 1.47 1.35L5.41 20z\"/>\n",
              "  </svg>\n",
              "      </button>\n",
              "      \n",
              "  <style>\n",
              "    .colab-df-container {\n",
              "      display:flex;\n",
              "      flex-wrap:wrap;\n",
              "      gap: 12px;\n",
              "    }\n",
              "\n",
              "    .colab-df-convert {\n",
              "      background-color: #E8F0FE;\n",
              "      border: none;\n",
              "      border-radius: 50%;\n",
              "      cursor: pointer;\n",
              "      display: none;\n",
              "      fill: #1967D2;\n",
              "      height: 32px;\n",
              "      padding: 0 0 0 0;\n",
              "      width: 32px;\n",
              "    }\n",
              "\n",
              "    .colab-df-convert:hover {\n",
              "      background-color: #E2EBFA;\n",
              "      box-shadow: 0px 1px 2px rgba(60, 64, 67, 0.3), 0px 1px 3px 1px rgba(60, 64, 67, 0.15);\n",
              "      fill: #174EA6;\n",
              "    }\n",
              "\n",
              "    [theme=dark] .colab-df-convert {\n",
              "      background-color: #3B4455;\n",
              "      fill: #D2E3FC;\n",
              "    }\n",
              "\n",
              "    [theme=dark] .colab-df-convert:hover {\n",
              "      background-color: #434B5C;\n",
              "      box-shadow: 0px 1px 3px 1px rgba(0, 0, 0, 0.15);\n",
              "      filter: drop-shadow(0px 1px 2px rgba(0, 0, 0, 0.3));\n",
              "      fill: #FFFFFF;\n",
              "    }\n",
              "  </style>\n",
              "\n",
              "      <script>\n",
              "        const buttonEl =\n",
              "          document.querySelector('#df-842bb688-a25c-4fcf-bcc6-53d62c6c070f button.colab-df-convert');\n",
              "        buttonEl.style.display =\n",
              "          google.colab.kernel.accessAllowed ? 'block' : 'none';\n",
              "\n",
              "        async function convertToInteractive(key) {\n",
              "          const element = document.querySelector('#df-842bb688-a25c-4fcf-bcc6-53d62c6c070f');\n",
              "          const dataTable =\n",
              "            await google.colab.kernel.invokeFunction('convertToInteractive',\n",
              "                                                     [key], {});\n",
              "          if (!dataTable) return;\n",
              "\n",
              "          const docLinkHtml = 'Like what you see? Visit the ' +\n",
              "            '<a target=\"_blank\" href=https://colab.research.google.com/notebooks/data_table.ipynb>data table notebook</a>'\n",
              "            + ' to learn more about interactive tables.';\n",
              "          element.innerHTML = '';\n",
              "          dataTable['output_type'] = 'display_data';\n",
              "          await google.colab.output.renderOutput(dataTable, element);\n",
              "          const docLink = document.createElement('div');\n",
              "          docLink.innerHTML = docLinkHtml;\n",
              "          element.appendChild(docLink);\n",
              "        }\n",
              "      </script>\n",
              "    </div>\n",
              "  </div>\n",
              "  "
            ]
          },
          "metadata": {},
          "execution_count": 13
        }
      ]
    },
    {
      "cell_type": "code",
      "metadata": {
        "colab": {
          "base_uri": "https://localhost:8080/"
        },
        "id": "BH14422kNNTJ",
        "outputId": "27affb26-d3f5-480f-e9d5-df24a1eb36b8"
      },
      "source": [
        "\n",
        "c.SEQN.groupby(c.MCQ160F).count()\n",
        "#c.MCQ160F.value_counts()"
      ],
      "execution_count": null,
      "outputs": [
        {
          "output_type": "execute_result",
          "data": {
            "text/plain": [
              "MCQ160F\n",
              "1.0     194\n",
              "2.0    5389\n",
              "9.0       5\n",
              "Name: SEQN, dtype: int64"
            ]
          },
          "metadata": {},
          "execution_count": 14
        }
      ]
    },
    {
      "cell_type": "code",
      "metadata": {
        "id": "w4EB6I0HNkZG"
      },
      "source": [
        "# Dropping Nan and 9. values from the target feature MCQ160F\n",
        "c=c[(c.MCQ160F.notnull()) & (c.MCQ160F !=9)]"
      ],
      "execution_count": null,
      "outputs": []
    },
    {
      "cell_type": "code",
      "metadata": {
        "colab": {
          "base_uri": "https://localhost:8080/"
        },
        "id": "yeRsrUk3CKl5",
        "outputId": "9a757da1-d65a-494f-b4d4-f5daf2945746"
      },
      "source": [
        "c.MCQ160F.describe()"
      ],
      "execution_count": null,
      "outputs": [
        {
          "output_type": "execute_result",
          "data": {
            "text/plain": [
              "count    5583.000000\n",
              "mean        1.965252\n",
              "std         0.183158\n",
              "min         1.000000\n",
              "25%         2.000000\n",
              "50%         2.000000\n",
              "75%         2.000000\n",
              "max         2.000000\n",
              "Name: MCQ160F, dtype: float64"
            ]
          },
          "metadata": {},
          "execution_count": 16
        }
      ]
    },
    {
      "cell_type": "code",
      "metadata": {
        "id": "K43bmEKSQPSW"
      },
      "source": [
        " # import code book\n",
        "# cbook = pd.read_csv('/kaggle/input/nhanes-2013-2014-codebook-with-sas-label/nhanes_2013_2014_codebook.csv')"
      ],
      "execution_count": null,
      "outputs": []
    },
    {
      "cell_type": "markdown",
      "metadata": {
        "id": "JJPUbOcXFZCN"
      },
      "source": [
        "# Data Cleaning\n",
        "    1. Drop all Non-numeric values\n",
        "    2. Drop column(s) which has more than 50% Nan values\n",
        "    3. Change targeting values coding 1,2 to 0 (Negative) & 1 (positive)"
      ]
    },
    {
      "cell_type": "code",
      "metadata": {
        "colab": {
          "base_uri": "https://localhost:8080/"
        },
        "id": "IR2l0zYgFcxF",
        "outputId": "1d703bac-e89a-42ae-c3c9-82a6508cef65"
      },
      "source": [
        "# Dropping all Non-numeric values\n",
        "# Creating another df as d after removing Non-numeric values from c  \n",
        "d=c.select_dtypes(['number'])\n",
        "\n",
        "# Drop column(s) which has more than 50% Nan values\n",
        "d=d.dropna(axis=1,thresh=0.5*len(d))\n",
        "\n",
        "# Total number of remaining columns\n",
        "print(len(d.columns),'column(s) left')"
      ],
      "execution_count": null,
      "outputs": [
        {
          "output_type": "stream",
          "name": "stdout",
          "text": [
            "284 column(s) left\n"
          ]
        }
      ]
    },
    {
      "cell_type": "code",
      "metadata": {
        "colab": {
          "base_uri": "https://localhost:8080/"
        },
        "id": "KcFNYm0SIbnh",
        "outputId": "310dded9-d8a1-4b0d-e4fa-83e776048654"
      },
      "source": [
        "# Changing targeting values coding 1,2 to 0 (Negative) & 1 (positive)\n",
        "d['MCQ160F']=d.apply(lambda x : 1 if x.MCQ160F==1 else 0,axis='columns')\n",
        "d.MCQ160F.value_counts()"
      ],
      "execution_count": null,
      "outputs": [
        {
          "output_type": "execute_result",
          "data": {
            "text/plain": [
              "0    5389\n",
              "1     194\n",
              "Name: MCQ160F, dtype: int64"
            ]
          },
          "metadata": {},
          "execution_count": 19
        }
      ]
    },
    {
      "cell_type": "markdown",
      "metadata": {
        "id": "Pj6I-Y-P9ecL"
      },
      "source": [
        "Feature Selection"
      ]
    },
    {
      "cell_type": "code",
      "metadata": {
        "colab": {
          "base_uri": "https://localhost:8080/"
        },
        "id": "4jwZ3oGm9jGJ",
        "outputId": "c8e039ee-bb20-4c1b-e1e9-da1694d92e50"
      },
      "source": [
        "d.MCQ160F.value_counts()"
      ],
      "execution_count": null,
      "outputs": [
        {
          "output_type": "execute_result",
          "data": {
            "text/plain": [
              "0    5389\n",
              "1     194\n",
              "Name: MCQ160F, dtype: int64"
            ]
          },
          "metadata": {},
          "execution_count": 20
        }
      ]
    },
    {
      "cell_type": "code",
      "metadata": {
        "colab": {
          "base_uri": "https://localhost:8080/",
          "height": 414
        },
        "id": "6SzQdTMw9ssT",
        "outputId": "ed794ccc-3062-4747-da72-bda4e904a7fb"
      },
      "source": [
        "\n",
        "#d['MCQ160F'].value_counts().plot(kind='bar')\n",
        "#d.SEQN.groupby(d.MCQ160F).count()\n",
        "val=d.MCQ160F.value_counts()\n",
        "plt.figure(figsize=(8,6))\n",
        "plt.rc('font',size=14)\n",
        "ax=val.plot.bar(rot=0,color='green')\n",
        "\n",
        "for i in range(len(val)):\n",
        "  print(i)\n",
        "  ax.annotate(s=val[i],xy=[val.index[i],val[i]],ha='center',va='bottom',color='red')"
      ],
      "execution_count": null,
      "outputs": [
        {
          "output_type": "stream",
          "name": "stdout",
          "text": [
            "0\n",
            "1\n"
          ]
        },
        {
          "output_type": "display_data",
          "data": {
            "text/plain": [
              "<Figure size 576x432 with 1 Axes>"
            ],
            "image/png": "[encoded data removed]"
          },
          "metadata": {
            "needs_background": "light"
          }
        }
      ]
    },
    {
      "cell_type": "code",
      "metadata": {
        "id": "_XgSTfC8F9_t",
        "colab": {
          "base_uri": "https://localhost:8080/",
          "height": 300
        },
        "outputId": "50ae0377-2ba4-410b-98ba-d141736cb1a4"
      },
      "source": [
        "d.head()"
      ],
      "execution_count": null,
      "outputs": [
        {
          "output_type": "execute_result",
          "data": {
            "text/plain": [
              "    SEQN  SDDSRVYR  RIDSTATR  RIAGENDR  RIDAGEYR  RIDRETH1  RIDRETH3  \\\n",
              "0  73557         8         2         1        69         4         4   \n",
              "1  73558         8         2         1        54         3         3   \n",
              "2  73559         8         2         1        72         3         3   \n",
              "4  73561         8         2         2        73         3         3   \n",
              "5  73562         8         2         1        56         1         1   \n",
              "\n",
              "   RIDEXMON  DMQMILIZ  DMDBORN4  ...  LBXTC  LBDTCSI  LBXTTG      WTSH2YR.y  \\\n",
              "0       1.0       1.0         1  ...  167.0     4.32     2.0            NaN   \n",
              "1       1.0       2.0         1  ...  170.0     4.40     2.0   49123.400015   \n",
              "2       2.0       1.0         1  ...  126.0     3.26     2.0  115794.742161   \n",
              "4       1.0       2.0         1  ...  201.0     5.20     2.0            NaN   \n",
              "5       1.0       1.0         1  ...  226.0     5.84     2.0   47860.935312   \n",
              "\n",
              "   URXUTRI  URXVOL1  URDFLOW1  LBDB12  LBDB12SI  MCQ160F  \n",
              "0      NaN     87.0     0.821   524.0     386.7        1  \n",
              "1      2.0     90.0     1.636   507.0     374.2        0  \n",
              "2      NaN     66.0       NaN   732.0     540.2        0  \n",
              "4      NaN      5.0     0.109   225.0     166.1        0  \n",
              "5      2.0    197.0     1.187   750.0     553.5        0  \n",
              "\n",
              "[5 rows x 284 columns]"
            ],
            "text/html": [
              "\n",
              "  <div id=\"df-72a4ad73-cc5d-4907-baba-5ee19547e090\">\n",
              "    <div class=\"colab-df-container\">\n",
              "      <div>\n",
              "<style scoped>\n",
              "    .dataframe tbody tr th:only-of-type {\n",
              "        vertical-align: middle;\n",
              "    }\n",
              "\n",
              "    .dataframe tbody tr th {\n",
              "        vertical-align: top;\n",
              "    }\n",
              "\n",
              "    .dataframe thead th {\n",
              "        text-align: right;\n",
              "    }\n",
              "</style>\n",
              "<table border=\"1\" class=\"dataframe\">\n",
              "  <thead>\n",
              "    <tr style=\"text-align: right;\">\n",
              "      <th></th>\n",
              "      <th>SEQN</th>\n",
              "      <th>SDDSRVYR</th>\n",
              "      <th>RIDSTATR</th>\n",
              "      <th>RIAGENDR</th>\n",
              "      <th>RIDAGEYR</th>\n",
              "      <th>RIDRETH1</th>\n",
              "      <th>RIDRETH3</th>\n",
              "      <th>RIDEXMON</th>\n",
              "      <th>DMQMILIZ</th>\n",
              "      <th>DMDBORN4</th>\n",
              "      <th>...</th>\n",
              "      <th>LBXTC</th>\n",
              "      <th>LBDTCSI</th>\n",
              "      <th>LBXTTG</th>\n",
              "      <th>WTSH2YR.y</th>\n",
              "      <th>URXUTRI</th>\n",
              "      <th>URXVOL1</th>\n",
              "      <th>URDFLOW1</th>\n",
              "      <th>LBDB12</th>\n",
              "      <th>LBDB12SI</th>\n",
              "      <th>MCQ160F</th>\n",
              "    </tr>\n",
              "  </thead>\n",
              "  <tbody>\n",
              "    <tr>\n",
              "      <th>0</th>\n",
              "      <td>73557</td>\n",
              "      <td>8</td>\n",
              "      <td>2</td>\n",
              "      <td>1</td>\n",
              "      <td>69</td>\n",
              "      <td>4</td>\n",
              "      <td>4</td>\n",
              "      <td>1.0</td>\n",
              "      <td>1.0</td>\n",
              "      <td>1</td>\n",
              "      <td>...</td>\n",
              "      <td>167.0</td>\n",
              "      <td>4.32</td>\n",
              "      <td>2.0</td>\n",
              "      <td>NaN</td>\n",
              "      <td>NaN</td>\n",
              "      <td>87.0</td>\n",
              "      <td>0.821</td>\n",
              "      <td>524.0</td>\n",
              "      <td>386.7</td>\n",
              "      <td>1</td>\n",
              "    </tr>\n",
              "    <tr>\n",
              "      <th>1</th>\n",
              "      <td>73558</td>\n",
              "      <td>8</td>\n",
              "      <td>2</td>\n",
              "      <td>1</td>\n",
              "      <td>54</td>\n",
              "      <td>3</td>\n",
              "      <td>3</td>\n",
              "      <td>1.0</td>\n",
              "      <td>2.0</td>\n",
              "      <td>1</td>\n",
              "      <td>...</td>\n",
              "      <td>170.0</td>\n",
              "      <td>4.40</td>\n",
              "      <td>2.0</td>\n",
              "      <td>49123.400015</td>\n",
              "      <td>2.0</td>\n",
              "      <td>90.0</td>\n",
              "      <td>1.636</td>\n",
              "      <td>507.0</td>\n",
              "      <td>374.2</td>\n",
              "      <td>0</td>\n",
              "    </tr>\n",
              "    <tr>\n",
              "      <th>2</th>\n",
              "      <td>73559</td>\n",
              "      <td>8</td>\n",
              "      <td>2</td>\n",
              "      <td>1</td>\n",
              "      <td>72</td>\n",
              "      <td>3</td>\n",
              "      <td>3</td>\n",
              "      <td>2.0</td>\n",
              "      <td>1.0</td>\n",
              "      <td>1</td>\n",
              "      <td>...</td>\n",
              "      <td>126.0</td>\n",
              "      <td>3.26</td>\n",
              "      <td>2.0</td>\n",
              "      <td>115794.742161</td>\n",
              "      <td>NaN</td>\n",
              "      <td>66.0</td>\n",
              "      <td>NaN</td>\n",
              "      <td>732.0</td>\n",
              "      <td>540.2</td>\n",
              "      <td>0</td>\n",
              "    </tr>\n",
              "    <tr>\n",
              "      <th>4</th>\n",
              "      <td>73561</td>\n",
              "      <td>8</td>\n",
              "      <td>2</td>\n",
              "      <td>2</td>\n",
              "      <td>73</td>\n",
              "      <td>3</td>\n",
              "      <td>3</td>\n",
              "      <td>1.0</td>\n",
              "      <td>2.0</td>\n",
              "      <td>1</td>\n",
              "      <td>...</td>\n",
              "      <td>201.0</td>\n",
              "      <td>5.20</td>\n",
              "      <td>2.0</td>\n",
              "      <td>NaN</td>\n",
              "      <td>NaN</td>\n",
              "      <td>5.0</td>\n",
              "      <td>0.109</td>\n",
              "      <td>225.0</td>\n",
              "      <td>166.1</td>\n",
              "      <td>0</td>\n",
              "    </tr>\n",
              "    <tr>\n",
              "      <th>5</th>\n",
              "      <td>73562</td>\n",
              "      <td>8</td>\n",
              "      <td>2</td>\n",
              "      <td>1</td>\n",
              "      <td>56</td>\n",
              "      <td>1</td>\n",
              "      <td>1</td>\n",
              "      <td>1.0</td>\n",
              "      <td>1.0</td>\n",
              "      <td>1</td>\n",
              "      <td>...</td>\n",
              "      <td>226.0</td>\n",
              "      <td>5.84</td>\n",
              "      <td>2.0</td>\n",
              "      <td>47860.935312</td>\n",
              "      <td>2.0</td>\n",
              "      <td>197.0</td>\n",
              "      <td>1.187</td>\n",
              "      <td>750.0</td>\n",
              "      <td>553.5</td>\n",
              "      <td>0</td>\n",
              "    </tr>\n",
              "  </tbody>\n",
              "</table>\n",
              "<p>5 rows × 284 columns</p>\n",
              "</div>\n",
              "      <button class=\"colab-df-convert\" onclick=\"convertToInteractive('df-72a4ad73-cc5d-4907-baba-5ee19547e090')\"\n",
              "              title=\"Convert this dataframe to an interactive table.\"\n",
              "              style=\"display:none;\">\n",
              "        \n",
              "  <svg xmlns=\"http://www.w3.org/2000/svg\" height=\"24px\"viewBox=\"0 0 24 24\"\n",
              "       width=\"24px\">\n",
              "    <path d=\"M0 0h24v24H0V0z\" fill=\"none\"/>\n",
              "    <path d=\"M18.56 5.44l.94 2.06.94-2.06 2.06-.94-2.06-.94-.94-2.06-.94 2.06-2.06.94zm-11 1L8.5 8.5l.94-2.06 2.06-.94-2.06-.94L8.5 2.5l-.94 2.06-2.06.94zm10 10l.94 2.06.94-2.06 2.06-.94-2.06-.94-.94-2.06-.94 2.06-2.06.94z\"/><path d=\"M17.41 7.96l-1.37-1.37c-.4-.4-.92-.59-1.43-.59-.52 0-1.04.2-1.43.59L10.3 9.45l-7.72 7.72c-.78.78-.78 2.05 0 2.83L4 21.41c.39.39.9.59 1.41.59.51 0 1.02-.2 1.41-.59l7.78-7.78 2.81-2.81c.8-.78.8-2.07 0-2.86zM5.41 20L4 18.59l7.72-7.72 1.47 1.35L5.41 20z\"/>\n",
              "  </svg>\n",
              "      </button>\n",
              "      \n",
              "  <style>\n",
              "    .colab-df-container {\n",
              "      display:flex;\n",
              "      flex-wrap:wrap;\n",
              "      gap: 12px;\n",
              "    }\n",
              "\n",
              "    .colab-df-convert {\n",
              "      background-color: #E8F0FE;\n",
              "      border: none;\n",
              "      border-radius: 50%;\n",
              "      cursor: pointer;\n",
              "      display: none;\n",
              "      fill: #1967D2;\n",
              "      height: 32px;\n",
              "      padding: 0 0 0 0;\n",
              "      width: 32px;\n",
              "    }\n",
              "\n",
              "    .colab-df-convert:hover {\n",
              "      background-color: #E2EBFA;\n",
              "      box-shadow: 0px 1px 2px rgba(60, 64, 67, 0.3), 0px 1px 3px 1px rgba(60, 64, 67, 0.15);\n",
              "      fill: #174EA6;\n",
              "    }\n",
              "\n",
              "    [theme=dark] .colab-df-convert {\n",
              "      background-color: #3B4455;\n",
              "      fill: #D2E3FC;\n",
              "    }\n",
              "\n",
              "    [theme=dark] .colab-df-convert:hover {\n",
              "      background-color: #434B5C;\n",
              "      box-shadow: 0px 1px 3px 1px rgba(0, 0, 0, 0.15);\n",
              "      filter: drop-shadow(0px 1px 2px rgba(0, 0, 0, 0.3));\n",
              "      fill: #FFFFFF;\n",
              "    }\n",
              "  </style>\n",
              "\n",
              "      <script>\n",
              "        const buttonEl =\n",
              "          document.querySelector('#df-72a4ad73-cc5d-4907-baba-5ee19547e090 button.colab-df-convert');\n",
              "        buttonEl.style.display =\n",
              "          google.colab.kernel.accessAllowed ? 'block' : 'none';\n",
              "\n",
              "        async function convertToInteractive(key) {\n",
              "          const element = document.querySelector('#df-72a4ad73-cc5d-4907-baba-5ee19547e090');\n",
              "          const dataTable =\n",
              "            await google.colab.kernel.invokeFunction('convertToInteractive',\n",
              "                                                     [key], {});\n",
              "          if (!dataTable) return;\n",
              "\n",
              "          const docLinkHtml = 'Like what you see? Visit the ' +\n",
              "            '<a target=\"_blank\" href=https://colab.research.google.com/notebooks/data_table.ipynb>data table notebook</a>'\n",
              "            + ' to learn more about interactive tables.';\n",
              "          element.innerHTML = '';\n",
              "          dataTable['output_type'] = 'display_data';\n",
              "          await google.colab.output.renderOutput(dataTable, element);\n",
              "          const docLink = document.createElement('div');\n",
              "          docLink.innerHTML = docLinkHtml;\n",
              "          element.appendChild(docLink);\n",
              "        }\n",
              "      </script>\n",
              "    </div>\n",
              "  </div>\n",
              "  "
            ]
          },
          "metadata": {},
          "execution_count": 22
        }
      ]
    },
    {
      "cell_type": "code",
      "source": [
        "from sklearn.impute import SimpleImputer\n",
        "smp_imp=SimpleImputer(strategy='most_frequent')\n",
        "d=pd.DataFrame(smp_imp.fit_transform(d),columns=d.columns)"
      ],
      "metadata": {
        "id": "qZ8Z5FKRszsx"
      },
      "execution_count": null,
      "outputs": []
    },
    {
      "cell_type": "code",
      "source": [
        "\n",
        "x=d.loc[:,d.columns!='MCQ160F']\n",
        "y=d.MCQ160F"
      ],
      "metadata": {
        "id": "BH9g7lP95wUv"
      },
      "execution_count": null,
      "outputs": []
    },
    {
      "cell_type": "code",
      "source": [
        "print('x shape : {0}'.format(x.shape))\n",
        "print('y shape : {0}'.format(y.shape))"
      ],
      "metadata": {
        "colab": {
          "base_uri": "https://localhost:8080/"
        },
        "id": "YPlJjc__8EJG",
        "outputId": "e5c1bdf5-df8b-4d03-faf6-b19f1c630436"
      },
      "execution_count": null,
      "outputs": [
        {
          "output_type": "stream",
          "name": "stdout",
          "text": [
            "x shape : (5583, 283)\n",
            "y shape : (5583,)\n"
          ]
        }
      ]
    },
    {
      "cell_type": "markdown",
      "source": [
        "# Data Selection for ML Model"
      ],
      "metadata": {
        "id": "_C7zEUTbgZtM"
      }
    },
    {
      "cell_type": "code",
      "source": [
        "from sklearn.model_selection import train_test_split\n",
        "x_train,x_test,y_train,y_test= train_test_split(x,y,test_size=0.2,random_state=12)"
      ],
      "metadata": {
        "id": "IQIW-Vmo9WaV"
      },
      "execution_count": null,
      "outputs": []
    },
    {
      "cell_type": "code",
      "source": [
        "from xgboost import XGBClassifier\n",
        "from sklearn.metrics import classification_report,accuracy_score,confusion_matrix"
      ],
      "metadata": {
        "id": "RM4-kOPqlasb"
      },
      "execution_count": null,
      "outputs": []
    },
    {
      "cell_type": "code",
      "source": [
        "xgclass=XGBClassifier()\n",
        "xgclass.fit(x_train,y_train)\n",
        "y_pred=xgclass.predict(x_test)\n",
        "score=accuracy_score(y_test,y_pred)\n",
        "print('accuracy_score %.2f%%' %(score*100))\n",
        "\n",
        "print('metrics: ',confusion_matrix(y_test,y_pred))\n",
        "\n",
        "def conf_metrics(test,pred):\n",
        "  conf=pd.DataFrame(confusion_matrix(test,pred),index=['True[0]','True[1]'],columns=['pred[0]','pred[1]'])\n",
        "  print('Confusion_metrics :->')\n",
        "  print(conf)\n",
        "  return conf\n",
        "\n",
        "conf_metrics(y_test,y_pred)"
      ],
      "metadata": {
        "id": "bcu5TImvm0zO",
        "colab": {
          "base_uri": "https://localhost:8080/",
          "height": 237
        },
        "outputId": "924be45a-df54-4532-8f67-5b4ec22af25c"
      },
      "execution_count": null,
      "outputs": [
        {
          "output_type": "stream",
          "name": "stdout",
          "text": [
            "accuracy_score 96.24%\n",
            "metrics:  [[1075    1]\n",
            " [  41    0]]\n",
            "Confusion_metrics :->\n",
            "         pred[0]  pred[1]\n",
            "True[0]     1075        1\n",
            "True[1]       41        0\n"
          ]
        },
        {
          "output_type": "execute_result",
          "data": {
            "text/plain": [
              "         pred[0]  pred[1]\n",
              "True[0]     1075        1\n",
              "True[1]       41        0"
            ],
            "text/html": [
              "\n",
              "  <div id=\"df-6f9d40c4-9504-43ed-a63d-ca264bb8909c\">\n",
              "    <div class=\"colab-df-container\">\n",
              "      <div>\n",
              "<style scoped>\n",
              "    .dataframe tbody tr th:only-of-type {\n",
              "        vertical-align: middle;\n",
              "    }\n",
              "\n",
              "    .dataframe tbody tr th {\n",
              "        vertical-align: top;\n",
              "    }\n",
              "\n",
              "    .dataframe thead th {\n",
              "        text-align: right;\n",
              "    }\n",
              "</style>\n",
              "<table border=\"1\" class=\"dataframe\">\n",
              "  <thead>\n",
              "    <tr style=\"text-align: right;\">\n",
              "      <th></th>\n",
              "      <th>pred[0]</th>\n",
              "      <th>pred[1]</th>\n",
              "    </tr>\n",
              "  </thead>\n",
              "  <tbody>\n",
              "    <tr>\n",
              "      <th>True[0]</th>\n",
              "      <td>1075</td>\n",
              "      <td>1</td>\n",
              "    </tr>\n",
              "    <tr>\n",
              "      <th>True[1]</th>\n",
              "      <td>41</td>\n",
              "      <td>0</td>\n",
              "    </tr>\n",
              "  </tbody>\n",
              "</table>\n",
              "</div>\n",
              "      <button class=\"colab-df-convert\" onclick=\"convertToInteractive('df-6f9d40c4-9504-43ed-a63d-ca264bb8909c')\"\n",
              "              title=\"Convert this dataframe to an interactive table.\"\n",
              "              style=\"display:none;\">\n",
              "        \n",
              "  <svg xmlns=\"http://www.w3.org/2000/svg\" height=\"24px\"viewBox=\"0 0 24 24\"\n",
              "       width=\"24px\">\n",
              "    <path d=\"M0 0h24v24H0V0z\" fill=\"none\"/>\n",
              "    <path d=\"M18.56 5.44l.94 2.06.94-2.06 2.06-.94-2.06-.94-.94-2.06-.94 2.06-2.06.94zm-11 1L8.5 8.5l.94-2.06 2.06-.94-2.06-.94L8.5 2.5l-.94 2.06-2.06.94zm10 10l.94 2.06.94-2.06 2.06-.94-2.06-.94-.94-2.06-.94 2.06-2.06.94z\"/><path d=\"M17.41 7.96l-1.37-1.37c-.4-.4-.92-.59-1.43-.59-.52 0-1.04.2-1.43.59L10.3 9.45l-7.72 7.72c-.78.78-.78 2.05 0 2.83L4 21.41c.39.39.9.59 1.41.59.51 0 1.02-.2 1.41-.59l7.78-7.78 2.81-2.81c.8-.78.8-2.07 0-2.86zM5.41 20L4 18.59l7.72-7.72 1.47 1.35L5.41 20z\"/>\n",
              "  </svg>\n",
              "      </button>\n",
              "      \n",
              "  <style>\n",
              "    .colab-df-container {\n",
              "      display:flex;\n",
              "      flex-wrap:wrap;\n",
              "      gap: 12px;\n",
              "    }\n",
              "\n",
              "    .colab-df-convert {\n",
              "      background-color: #E8F0FE;\n",
              "      border: none;\n",
              "      border-radius: 50%;\n",
              "      cursor: pointer;\n",
              "      display: none;\n",
              "      fill: #1967D2;\n",
              "      height: 32px;\n",
              "      padding: 0 0 0 0;\n",
              "      width: 32px;\n",
              "    }\n",
              "\n",
              "    .colab-df-convert:hover {\n",
              "      background-color: #E2EBFA;\n",
              "      box-shadow: 0px 1px 2px rgba(60, 64, 67, 0.3), 0px 1px 3px 1px rgba(60, 64, 67, 0.15);\n",
              "      fill: #174EA6;\n",
              "    }\n",
              "\n",
              "    [theme=dark] .colab-df-convert {\n",
              "      background-color: #3B4455;\n",
              "      fill: #D2E3FC;\n",
              "    }\n",
              "\n",
              "    [theme=dark] .colab-df-convert:hover {\n",
              "      background-color: #434B5C;\n",
              "      box-shadow: 0px 1px 3px 1px rgba(0, 0, 0, 0.15);\n",
              "      filter: drop-shadow(0px 1px 2px rgba(0, 0, 0, 0.3));\n",
              "      fill: #FFFFFF;\n",
              "    }\n",
              "  </style>\n",
              "\n",
              "      <script>\n",
              "        const buttonEl =\n",
              "          document.querySelector('#df-6f9d40c4-9504-43ed-a63d-ca264bb8909c button.colab-df-convert');\n",
              "        buttonEl.style.display =\n",
              "          google.colab.kernel.accessAllowed ? 'block' : 'none';\n",
              "\n",
              "        async function convertToInteractive(key) {\n",
              "          const element = document.querySelector('#df-6f9d40c4-9504-43ed-a63d-ca264bb8909c');\n",
              "          const dataTable =\n",
              "            await google.colab.kernel.invokeFunction('convertToInteractive',\n",
              "                                                     [key], {});\n",
              "          if (!dataTable) return;\n",
              "\n",
              "          const docLinkHtml = 'Like what you see? Visit the ' +\n",
              "            '<a target=\"_blank\" href=https://colab.research.google.com/notebooks/data_table.ipynb>data table notebook</a>'\n",
              "            + ' to learn more about interactive tables.';\n",
              "          element.innerHTML = '';\n",
              "          dataTable['output_type'] = 'display_data';\n",
              "          await google.colab.output.renderOutput(dataTable, element);\n",
              "          const docLink = document.createElement('div');\n",
              "          docLink.innerHTML = docLinkHtml;\n",
              "          element.appendChild(docLink);\n",
              "        }\n",
              "      </script>\n",
              "    </div>\n",
              "  </div>\n",
              "  "
            ]
          },
          "metadata": {},
          "execution_count": 28
        }
      ]
    },
    {
      "cell_type": "code",
      "source": [
        "print(y_test.value_counts())\n",
        "#print(y_pred.value_counts())\n"
      ],
      "metadata": {
        "id": "6XutdO5TnA1l",
        "colab": {
          "base_uri": "https://localhost:8080/"
        },
        "outputId": "7628485c-e85f-44fc-fa11-472600db1c91"
      },
      "execution_count": null,
      "outputs": [
        {
          "output_type": "stream",
          "name": "stdout",
          "text": [
            "0.0    1076\n",
            "1.0      41\n",
            "Name: MCQ160F, dtype: int64\n"
          ]
        }
      ]
    },
    {
      "cell_type": "markdown",
      "source": [
        "# Using SMOTE for oversampling "
      ],
      "metadata": {
        "id": "qkkIZCZ3guEi"
      }
    },
    {
      "cell_type": "code",
      "source": [
        "from imblearn.over_sampling import SMOTE\n",
        "smote=SMOTE()\n",
        "x_train_sm,y_train_sm=smote.fit_resample(x_train,y_train)\n",
        "x_test_sm,y_test_sm=smote.fit_resample(x_test,y_test)\n",
        "x_train_sm=pd.DataFrame(x_train_sm,columns=x.columns)\n",
        "x_test_sm=pd.DataFrame(x_test_sm,columns=x.columns)"
      ],
      "metadata": {
        "id": "eCsSsRbhsmuS"
      },
      "execution_count": null,
      "outputs": []
    },
    {
      "cell_type": "code",
      "source": [
        "model=XGBClassifier()\n",
        "model.fit(x_train_sm,y_train_sm)\n",
        "y_pred_sm=model.predict(x_test_sm)\n",
        "score=accuracy_score(y_test_sm,y_pred_sm)\n",
        "print('accuracy_score %.2f%%' %(score*100))\n",
        "\n",
        "print('metrics: ',confusion_matrix(y_test_sm,y_pred_sm))\n",
        "\n",
        "conf=pd.DataFrame(confusion_matrix(y_test_sm,y_pred_sm),index=['True[0]','True[1]'],columns=['pred[0]','pred[1]'])\n",
        "conf\n"
      ],
      "metadata": {
        "id": "0T8WQWdjzm7r",
        "colab": {
          "base_uri": "https://localhost:8080/",
          "height": 166
        },
        "outputId": "1d1abfb0-682a-46e9-c552-bbda0d286d69"
      },
      "execution_count": null,
      "outputs": [
        {
          "output_type": "stream",
          "name": "stdout",
          "text": [
            "accuracy_score 96.93%\n",
            "metrics:  [[1072    4]\n",
            " [  62 1014]]\n"
          ]
        },
        {
          "output_type": "execute_result",
          "data": {
            "text/plain": [
              "         pred[0]  pred[1]\n",
              "True[0]     1072        4\n",
              "True[1]       62     1014"
            ],
            "text/html": [
              "\n",
              "  <div id=\"df-bd621b36-9fb6-4120-95c0-d93bd022a3d9\">\n",
              "    <div class=\"colab-df-container\">\n",
              "      <div>\n",
              "<style scoped>\n",
              "    .dataframe tbody tr th:only-of-type {\n",
              "        vertical-align: middle;\n",
              "    }\n",
              "\n",
              "    .dataframe tbody tr th {\n",
              "        vertical-align: top;\n",
              "    }\n",
              "\n",
              "    .dataframe thead th {\n",
              "        text-align: right;\n",
              "    }\n",
              "</style>\n",
              "<table border=\"1\" class=\"dataframe\">\n",
              "  <thead>\n",
              "    <tr style=\"text-align: right;\">\n",
              "      <th></th>\n",
              "      <th>pred[0]</th>\n",
              "      <th>pred[1]</th>\n",
              "    </tr>\n",
              "  </thead>\n",
              "  <tbody>\n",
              "    <tr>\n",
              "      <th>True[0]</th>\n",
              "      <td>1072</td>\n",
              "      <td>4</td>\n",
              "    </tr>\n",
              "    <tr>\n",
              "      <th>True[1]</th>\n",
              "      <td>62</td>\n",
              "      <td>1014</td>\n",
              "    </tr>\n",
              "  </tbody>\n",
              "</table>\n",
              "</div>\n",
              "      <button class=\"colab-df-convert\" onclick=\"convertToInteractive('df-bd621b36-9fb6-4120-95c0-d93bd022a3d9')\"\n",
              "              title=\"Convert this dataframe to an interactive table.\"\n",
              "              style=\"display:none;\">\n",
              "        \n",
              "  <svg xmlns=\"http://www.w3.org/2000/svg\" height=\"24px\"viewBox=\"0 0 24 24\"\n",
              "       width=\"24px\">\n",
              "    <path d=\"M0 0h24v24H0V0z\" fill=\"none\"/>\n",
              "    <path d=\"M18.56 5.44l.94 2.06.94-2.06 2.06-.94-2.06-.94-.94-2.06-.94 2.06-2.06.94zm-11 1L8.5 8.5l.94-2.06 2.06-.94-2.06-.94L8.5 2.5l-.94 2.06-2.06.94zm10 10l.94 2.06.94-2.06 2.06-.94-2.06-.94-.94-2.06-.94 2.06-2.06.94z\"/><path d=\"M17.41 7.96l-1.37-1.37c-.4-.4-.92-.59-1.43-.59-.52 0-1.04.2-1.43.59L10.3 9.45l-7.72 7.72c-.78.78-.78 2.05 0 2.83L4 21.41c.39.39.9.59 1.41.59.51 0 1.02-.2 1.41-.59l7.78-7.78 2.81-2.81c.8-.78.8-2.07 0-2.86zM5.41 20L4 18.59l7.72-7.72 1.47 1.35L5.41 20z\"/>\n",
              "  </svg>\n",
              "      </button>\n",
              "      \n",
              "  <style>\n",
              "    .colab-df-container {\n",
              "      display:flex;\n",
              "      flex-wrap:wrap;\n",
              "      gap: 12px;\n",
              "    }\n",
              "\n",
              "    .colab-df-convert {\n",
              "      background-color: #E8F0FE;\n",
              "      border: none;\n",
              "      border-radius: 50%;\n",
              "      cursor: pointer;\n",
              "      display: none;\n",
              "      fill: #1967D2;\n",
              "      height: 32px;\n",
              "      padding: 0 0 0 0;\n",
              "      width: 32px;\n",
              "    }\n",
              "\n",
              "    .colab-df-convert:hover {\n",
              "      background-color: #E2EBFA;\n",
              "      box-shadow: 0px 1px 2px rgba(60, 64, 67, 0.3), 0px 1px 3px 1px rgba(60, 64, 67, 0.15);\n",
              "      fill: #174EA6;\n",
              "    }\n",
              "\n",
              "    [theme=dark] .colab-df-convert {\n",
              "      background-color: #3B4455;\n",
              "      fill: #D2E3FC;\n",
              "    }\n",
              "\n",
              "    [theme=dark] .colab-df-convert:hover {\n",
              "      background-color: #434B5C;\n",
              "      box-shadow: 0px 1px 3px 1px rgba(0, 0, 0, 0.15);\n",
              "      filter: drop-shadow(0px 1px 2px rgba(0, 0, 0, 0.3));\n",
              "      fill: #FFFFFF;\n",
              "    }\n",
              "  </style>\n",
              "\n",
              "      <script>\n",
              "        const buttonEl =\n",
              "          document.querySelector('#df-bd621b36-9fb6-4120-95c0-d93bd022a3d9 button.colab-df-convert');\n",
              "        buttonEl.style.display =\n",
              "          google.colab.kernel.accessAllowed ? 'block' : 'none';\n",
              "\n",
              "        async function convertToInteractive(key) {\n",
              "          const element = document.querySelector('#df-bd621b36-9fb6-4120-95c0-d93bd022a3d9');\n",
              "          const dataTable =\n",
              "            await google.colab.kernel.invokeFunction('convertToInteractive',\n",
              "                                                     [key], {});\n",
              "          if (!dataTable) return;\n",
              "\n",
              "          const docLinkHtml = 'Like what you see? Visit the ' +\n",
              "            '<a target=\"_blank\" href=https://colab.research.google.com/notebooks/data_table.ipynb>data table notebook</a>'\n",
              "            + ' to learn more about interactive tables.';\n",
              "          element.innerHTML = '';\n",
              "          dataTable['output_type'] = 'display_data';\n",
              "          await google.colab.output.renderOutput(dataTable, element);\n",
              "          const docLink = document.createElement('div');\n",
              "          docLink.innerHTML = docLinkHtml;\n",
              "          element.appendChild(docLink);\n",
              "        }\n",
              "      </script>\n",
              "    </div>\n",
              "  </div>\n",
              "  "
            ]
          },
          "metadata": {},
          "execution_count": 31
        }
      ]
    },
    {
      "cell_type": "code",
      "source": [
        "#model.x_train_sm\n",
        "keys=list(model.get_booster().feature_names)\n",
        "values=list(model.feature_importances_)\n",
        "data=pd.DataFrame(data=values,index=keys,columns=['score']).sort_values(by='score',ascending=False)"
      ],
      "metadata": {
        "id": "KfIHtPjfl2mu"
      },
      "execution_count": null,
      "outputs": []
    },
    {
      "cell_type": "code",
      "source": [
        "xgbs=data[:24]\n",
        "xgbs.sort_values(by='score',ascending=True).plot(kind='barh',figsize=(10,8))"
      ],
      "metadata": {
        "colab": {
          "base_uri": "https://localhost:8080/",
          "height": 505
        },
        "id": "kyfByjGsnH7c",
        "outputId": "8b861cd4-e47d-4abe-a64c-fb9613fa622e"
      },
      "execution_count": null,
      "outputs": [
        {
          "output_type": "execute_result",
          "data": {
            "text/plain": [
              "<matplotlib.axes._subplots.AxesSubplot at 0x7f6b6ccc1750>"
            ]
          },
          "metadata": {},
          "execution_count": 33
        },
        {
          "output_type": "display_data",
          "data": {
            "text/plain": [
              "<Figure size 720x576 with 1 Axes>"
            ],
            "image/png": "[encoded data removed]"
          },
          "metadata": {
            "needs_background": "light"
          }
        }
      ]
    },
    {
      "cell_type": "code",
      "source": [
        "xgbs.reset_index(inplace=True)"
      ],
      "metadata": {
        "id": "RFBAcZBfnyPq"
      },
      "execution_count": null,
      "outputs": []
    },
    {
      "cell_type": "code",
      "source": [
        "xgbs.head()"
      ],
      "metadata": {
        "colab": {
          "base_uri": "https://localhost:8080/",
          "height": 206
        },
        "id": "GbsU-kl8nh-L",
        "outputId": "8d5d669d-afd7-4c47-ee1b-b19d0223454a"
      },
      "execution_count": null,
      "outputs": [
        {
          "output_type": "execute_result",
          "data": {
            "text/plain": [
              "      index     score\n",
              "0  DMDHHSZE  0.087214\n",
              "1   OHX13TC  0.085363\n",
              "2   OHX31TC  0.063070\n",
              "3   OHX02TC  0.057875\n",
              "4   OHX20TC  0.044479"
            ],
            "text/html": [
              "\n",
              "  <div id=\"df-a3a10242-f763-4cff-a0b0-0c4b51552a0f\">\n",
              "    <div class=\"colab-df-container\">\n",
              "      <div>\n",
              "<style scoped>\n",
              "    .dataframe tbody tr th:only-of-type {\n",
              "        vertical-align: middle;\n",
              "    }\n",
              "\n",
              "    .dataframe tbody tr th {\n",
              "        vertical-align: top;\n",
              "    }\n",
              "\n",
              "    .dataframe thead th {\n",
              "        text-align: right;\n",
              "    }\n",
              "</style>\n",
              "<table border=\"1\" class=\"dataframe\">\n",
              "  <thead>\n",
              "    <tr style=\"text-align: right;\">\n",
              "      <th></th>\n",
              "      <th>index</th>\n",
              "      <th>score</th>\n",
              "    </tr>\n",
              "  </thead>\n",
              "  <tbody>\n",
              "    <tr>\n",
              "      <th>0</th>\n",
              "      <td>DMDHHSZE</td>\n",
              "      <td>0.087214</td>\n",
              "    </tr>\n",
              "    <tr>\n",
              "      <th>1</th>\n",
              "      <td>OHX13TC</td>\n",
              "      <td>0.085363</td>\n",
              "    </tr>\n",
              "    <tr>\n",
              "      <th>2</th>\n",
              "      <td>OHX31TC</td>\n",
              "      <td>0.063070</td>\n",
              "    </tr>\n",
              "    <tr>\n",
              "      <th>3</th>\n",
              "      <td>OHX02TC</td>\n",
              "      <td>0.057875</td>\n",
              "    </tr>\n",
              "    <tr>\n",
              "      <th>4</th>\n",
              "      <td>OHX20TC</td>\n",
              "      <td>0.044479</td>\n",
              "    </tr>\n",
              "  </tbody>\n",
              "</table>\n",
              "</div>\n",
              "      <button class=\"colab-df-convert\" onclick=\"convertToInteractive('df-a3a10242-f763-4cff-a0b0-0c4b51552a0f')\"\n",
              "              title=\"Convert this dataframe to an interactive table.\"\n",
              "              style=\"display:none;\">\n",
              "        \n",
              "  <svg xmlns=\"http://www.w3.org/2000/svg\" height=\"24px\"viewBox=\"0 0 24 24\"\n",
              "       width=\"24px\">\n",
              "    <path d=\"M0 0h24v24H0V0z\" fill=\"none\"/>\n",
              "    <path d=\"M18.56 5.44l.94 2.06.94-2.06 2.06-.94-2.06-.94-.94-2.06-.94 2.06-2.06.94zm-11 1L8.5 8.5l.94-2.06 2.06-.94-2.06-.94L8.5 2.5l-.94 2.06-2.06.94zm10 10l.94 2.06.94-2.06 2.06-.94-2.06-.94-.94-2.06-.94 2.06-2.06.94z\"/><path d=\"M17.41 7.96l-1.37-1.37c-.4-.4-.92-.59-1.43-.59-.52 0-1.04.2-1.43.59L10.3 9.45l-7.72 7.72c-.78.78-.78 2.05 0 2.83L4 21.41c.39.39.9.59 1.41.59.51 0 1.02-.2 1.41-.59l7.78-7.78 2.81-2.81c.8-.78.8-2.07 0-2.86zM5.41 20L4 18.59l7.72-7.72 1.47 1.35L5.41 20z\"/>\n",
              "  </svg>\n",
              "      </button>\n",
              "      \n",
              "  <style>\n",
              "    .colab-df-container {\n",
              "      display:flex;\n",
              "      flex-wrap:wrap;\n",
              "      gap: 12px;\n",
              "    }\n",
              "\n",
              "    .colab-df-convert {\n",
              "      background-color: #E8F0FE;\n",
              "      border: none;\n",
              "      border-radius: 50%;\n",
              "      cursor: pointer;\n",
              "      display: none;\n",
              "      fill: #1967D2;\n",
              "      height: 32px;\n",
              "      padding: 0 0 0 0;\n",
              "      width: 32px;\n",
              "    }\n",
              "\n",
              "    .colab-df-convert:hover {\n",
              "      background-color: #E2EBFA;\n",
              "      box-shadow: 0px 1px 2px rgba(60, 64, 67, 0.3), 0px 1px 3px 1px rgba(60, 64, 67, 0.15);\n",
              "      fill: #174EA6;\n",
              "    }\n",
              "\n",
              "    [theme=dark] .colab-df-convert {\n",
              "      background-color: #3B4455;\n",
              "      fill: #D2E3FC;\n",
              "    }\n",
              "\n",
              "    [theme=dark] .colab-df-convert:hover {\n",
              "      background-color: #434B5C;\n",
              "      box-shadow: 0px 1px 3px 1px rgba(0, 0, 0, 0.15);\n",
              "      filter: drop-shadow(0px 1px 2px rgba(0, 0, 0, 0.3));\n",
              "      fill: #FFFFFF;\n",
              "    }\n",
              "  </style>\n",
              "\n",
              "      <script>\n",
              "        const buttonEl =\n",
              "          document.querySelector('#df-a3a10242-f763-4cff-a0b0-0c4b51552a0f button.colab-df-convert');\n",
              "        buttonEl.style.display =\n",
              "          google.colab.kernel.accessAllowed ? 'block' : 'none';\n",
              "\n",
              "        async function convertToInteractive(key) {\n",
              "          const element = document.querySelector('#df-a3a10242-f763-4cff-a0b0-0c4b51552a0f');\n",
              "          const dataTable =\n",
              "            await google.colab.kernel.invokeFunction('convertToInteractive',\n",
              "                                                     [key], {});\n",
              "          if (!dataTable) return;\n",
              "\n",
              "          const docLinkHtml = 'Like what you see? Visit the ' +\n",
              "            '<a target=\"_blank\" href=https://colab.research.google.com/notebooks/data_table.ipynb>data table notebook</a>'\n",
              "            + ' to learn more about interactive tables.';\n",
              "          element.innerHTML = '';\n",
              "          dataTable['output_type'] = 'display_data';\n",
              "          await google.colab.output.renderOutput(dataTable, element);\n",
              "          const docLink = document.createElement('div');\n",
              "          docLink.innerHTML = docLinkHtml;\n",
              "          element.appendChild(docLink);\n",
              "        }\n",
              "      </script>\n",
              "    </div>\n",
              "  </div>\n",
              "  "
            ]
          },
          "metadata": {},
          "execution_count": 35
        }
      ]
    },
    {
      "cell_type": "code",
      "source": [
        "xgbs.columns=['variable','score']"
      ],
      "metadata": {
        "id": "xEXFjtzDn6Bu"
      },
      "execution_count": null,
      "outputs": []
    },
    {
      "cell_type": "code",
      "source": [
        "xgbs['variable']=xgbs['variable'].apply(lambda x:x.upper())"
      ],
      "metadata": {
        "colab": {
          "base_uri": "https://localhost:8080/"
        },
        "id": "8XLbSP1l0nGR",
        "outputId": "d1d3701e-0e44-4591-ea34-661e7ba13e3d"
      },
      "execution_count": null,
      "outputs": [
        {
          "output_type": "stream",
          "name": "stderr",
          "text": [
            "/usr/local/lib/python3.7/dist-packages/ipykernel_launcher.py:1: SettingWithCopyWarning: \n",
            "A value is trying to be set on a copy of a slice from a DataFrame.\n",
            "Try using .loc[row_indexer,col_indexer] = value instead\n",
            "\n",
            "See the caveats in the documentation: https://pandas.pydata.org/pandas-docs/stable/user_guide/indexing.html#returning-a-view-versus-a-copy\n",
            "  \"\"\"Entry point for launching an IPython kernel.\n"
          ]
        }
      ]
    },
    {
      "cell_type": "code",
      "source": [
        "xgbs.head()"
      ],
      "metadata": {
        "colab": {
          "base_uri": "https://localhost:8080/",
          "height": 206
        },
        "id": "EtQkC4IX0nBd",
        "outputId": "6141ba38-0aa9-44d1-d9fa-44a7d21e1d59"
      },
      "execution_count": null,
      "outputs": [
        {
          "output_type": "execute_result",
          "data": {
            "text/plain": [
              "   variable     score\n",
              "0  DMDHHSZE  0.087214\n",
              "1   OHX13TC  0.085363\n",
              "2   OHX31TC  0.063070\n",
              "3   OHX02TC  0.057875\n",
              "4   OHX20TC  0.044479"
            ],
            "text/html": [
              "\n",
              "  <div id=\"df-7e730611-f347-4509-b4e9-33ae5b23ad53\">\n",
              "    <div class=\"colab-df-container\">\n",
              "      <div>\n",
              "<style scoped>\n",
              "    .dataframe tbody tr th:only-of-type {\n",
              "        vertical-align: middle;\n",
              "    }\n",
              "\n",
              "    .dataframe tbody tr th {\n",
              "        vertical-align: top;\n",
              "    }\n",
              "\n",
              "    .dataframe thead th {\n",
              "        text-align: right;\n",
              "    }\n",
              "</style>\n",
              "<table border=\"1\" class=\"dataframe\">\n",
              "  <thead>\n",
              "    <tr style=\"text-align: right;\">\n",
              "      <th></th>\n",
              "      <th>variable</th>\n",
              "      <th>score</th>\n",
              "    </tr>\n",
              "  </thead>\n",
              "  <tbody>\n",
              "    <tr>\n",
              "      <th>0</th>\n",
              "      <td>DMDHHSZE</td>\n",
              "      <td>0.087214</td>\n",
              "    </tr>\n",
              "    <tr>\n",
              "      <th>1</th>\n",
              "      <td>OHX13TC</td>\n",
              "      <td>0.085363</td>\n",
              "    </tr>\n",
              "    <tr>\n",
              "      <th>2</th>\n",
              "      <td>OHX31TC</td>\n",
              "      <td>0.063070</td>\n",
              "    </tr>\n",
              "    <tr>\n",
              "      <th>3</th>\n",
              "      <td>OHX02TC</td>\n",
              "      <td>0.057875</td>\n",
              "    </tr>\n",
              "    <tr>\n",
              "      <th>4</th>\n",
              "      <td>OHX20TC</td>\n",
              "      <td>0.044479</td>\n",
              "    </tr>\n",
              "  </tbody>\n",
              "</table>\n",
              "</div>\n",
              "      <button class=\"colab-df-convert\" onclick=\"convertToInteractive('df-7e730611-f347-4509-b4e9-33ae5b23ad53')\"\n",
              "              title=\"Convert this dataframe to an interactive table.\"\n",
              "              style=\"display:none;\">\n",
              "        \n",
              "  <svg xmlns=\"http://www.w3.org/2000/svg\" height=\"24px\"viewBox=\"0 0 24 24\"\n",
              "       width=\"24px\">\n",
              "    <path d=\"M0 0h24v24H0V0z\" fill=\"none\"/>\n",
              "    <path d=\"M18.56 5.44l.94 2.06.94-2.06 2.06-.94-2.06-.94-.94-2.06-.94 2.06-2.06.94zm-11 1L8.5 8.5l.94-2.06 2.06-.94-2.06-.94L8.5 2.5l-.94 2.06-2.06.94zm10 10l.94 2.06.94-2.06 2.06-.94-2.06-.94-.94-2.06-.94 2.06-2.06.94z\"/><path d=\"M17.41 7.96l-1.37-1.37c-.4-.4-.92-.59-1.43-.59-.52 0-1.04.2-1.43.59L10.3 9.45l-7.72 7.72c-.78.78-.78 2.05 0 2.83L4 21.41c.39.39.9.59 1.41.59.51 0 1.02-.2 1.41-.59l7.78-7.78 2.81-2.81c.8-.78.8-2.07 0-2.86zM5.41 20L4 18.59l7.72-7.72 1.47 1.35L5.41 20z\"/>\n",
              "  </svg>\n",
              "      </button>\n",
              "      \n",
              "  <style>\n",
              "    .colab-df-container {\n",
              "      display:flex;\n",
              "      flex-wrap:wrap;\n",
              "      gap: 12px;\n",
              "    }\n",
              "\n",
              "    .colab-df-convert {\n",
              "      background-color: #E8F0FE;\n",
              "      border: none;\n",
              "      border-radius: 50%;\n",
              "      cursor: pointer;\n",
              "      display: none;\n",
              "      fill: #1967D2;\n",
              "      height: 32px;\n",
              "      padding: 0 0 0 0;\n",
              "      width: 32px;\n",
              "    }\n",
              "\n",
              "    .colab-df-convert:hover {\n",
              "      background-color: #E2EBFA;\n",
              "      box-shadow: 0px 1px 2px rgba(60, 64, 67, 0.3), 0px 1px 3px 1px rgba(60, 64, 67, 0.15);\n",
              "      fill: #174EA6;\n",
              "    }\n",
              "\n",
              "    [theme=dark] .colab-df-convert {\n",
              "      background-color: #3B4455;\n",
              "      fill: #D2E3FC;\n",
              "    }\n",
              "\n",
              "    [theme=dark] .colab-df-convert:hover {\n",
              "      background-color: #434B5C;\n",
              "      box-shadow: 0px 1px 3px 1px rgba(0, 0, 0, 0.15);\n",
              "      filter: drop-shadow(0px 1px 2px rgba(0, 0, 0, 0.3));\n",
              "      fill: #FFFFFF;\n",
              "    }\n",
              "  </style>\n",
              "\n",
              "      <script>\n",
              "        const buttonEl =\n",
              "          document.querySelector('#df-7e730611-f347-4509-b4e9-33ae5b23ad53 button.colab-df-convert');\n",
              "        buttonEl.style.display =\n",
              "          google.colab.kernel.accessAllowed ? 'block' : 'none';\n",
              "\n",
              "        async function convertToInteractive(key) {\n",
              "          const element = document.querySelector('#df-7e730611-f347-4509-b4e9-33ae5b23ad53');\n",
              "          const dataTable =\n",
              "            await google.colab.kernel.invokeFunction('convertToInteractive',\n",
              "                                                     [key], {});\n",
              "          if (!dataTable) return;\n",
              "\n",
              "          const docLinkHtml = 'Like what you see? Visit the ' +\n",
              "            '<a target=\"_blank\" href=https://colab.research.google.com/notebooks/data_table.ipynb>data table notebook</a>'\n",
              "            + ' to learn more about interactive tables.';\n",
              "          element.innerHTML = '';\n",
              "          dataTable['output_type'] = 'display_data';\n",
              "          await google.colab.output.renderOutput(dataTable, element);\n",
              "          const docLink = document.createElement('div');\n",
              "          docLink.innerHTML = docLinkHtml;\n",
              "          element.appendChild(docLink);\n",
              "        }\n",
              "      </script>\n",
              "    </div>\n",
              "  </div>\n",
              "  "
            ]
          },
          "metadata": {},
          "execution_count": 38
        }
      ]
    },
    {
      "cell_type": "code",
      "source": [
        ""
      ],
      "metadata": {
        "id": "u_8t2ANW0m2f"
      },
      "execution_count": null,
      "outputs": []
    },
    {
      "cell_type": "code",
      "source": [
        ""
      ],
      "metadata": {
        "id": "Ba2mPVKcq-4B"
      },
      "execution_count": null,
      "outputs": []
    },
    {
      "cell_type": "markdown",
      "source": [
        "### CodeBook\n",
        "\n",
        "\n",
        "\n",
        "1.  Goal is to get the variable description\n",
        "2.   Reading html and fetching variable details\n",
        "\n"
      ],
      "metadata": {
        "id": "AsRNWtwavk6O"
      }
    },
    {
      "cell_type": "code",
      "source": [
        "import requests\n",
        "from bs4 import BeautifulSoup as bs\n",
        "import urllib\n",
        "import re"
      ],
      "metadata": {
        "id": "WHDA2YuvtRQF"
      },
      "execution_count": null,
      "outputs": []
    },
    {
      "cell_type": "code",
      "source": [
        "urls = {'DEMO':'https://wwwn.cdc.gov/nchs/nhanes/search/datapage.aspx?Component=Demographics&CycleBeginYear=2013',\n",
        "        'DIET':'https://wwwn.cdc.gov/nchs/nhanes/Search/DataPage.aspx?Component=Dietary&CycleBeginYear=2013',\n",
        "        'EXAM':'https://wwwn.cdc.gov/nchs/nhanes/Search/DataPage.aspx?Component=Examination&CycleBeginYear=2013',\n",
        "        'LAB':'https://wwwn.cdc.gov/nchs/nhanes/Search/DataPage.aspx?Component=Laboratory&CycleBeginYear=2013',\n",
        "        'QUEST':'https://wwwn.cdc.gov/nchs/nhanes/Search/DataPage.aspx?Component=Questionnaire&CycleBeginYear=2013'}\n",
        "\n",
        "#'demo','diet','exam','lab','medi','quest'\n",
        "\n",
        "def parse_main(url,links,category):\n",
        "  page=requests.get(url)\n",
        "  soup=bs(page.content,'html.parser')\n",
        "  table=soup.find('table')\n",
        "\n",
        "  for link in table.find_all('a'):\n",
        "    if str(link.get('href')).endswith('.htm')==True:\n",
        "      link_j=urllib.parse.urljoin('https://wwwn.cdc.gov/',link.get('href'))\n",
        "      links[category].append(link_j)\n",
        "      #print('found 1',links)\n",
        "\n",
        "\n",
        "links={v:[] for v in urls.keys()}\n",
        "#print(links)\n",
        "\n",
        "for k,url in urls.items():\n",
        "  #print(k,url)\n",
        "  parse_main(url,links,k) \n"
      ],
      "metadata": {
        "id": "mDl7WYf_wRtc"
      },
      "execution_count": null,
      "outputs": []
    },
    {
      "cell_type": "code",
      "source": [
        "# page=requests.get('https://wwwn.cdc.gov/nchs/nhanes/search/datapage.aspx?Component=Demographics&CycleBeginYear=2013')\n",
        "# soup=bs(page.content,'html.parser')\n",
        "# table=soup.find('table')\n",
        "# for link in table.find_all('a'):\n",
        "#     if str(link.get('href')).endswith('.htm')==True:\n",
        "#       link_j=urllib.parse.urljoin('https://wwwn.cdc.gov/',link.get('href'))\n",
        "#       print(link_j)"
      ],
      "metadata": {
        "colab": {
          "base_uri": "https://localhost:8080/"
        },
        "id": "-YuH-RWGc6tv",
        "outputId": "e0c754fb-5c5b-401a-807b-35504f850bcb"
      },
      "execution_count": null,
      "outputs": [
        {
          "output_type": "stream",
          "name": "stdout",
          "text": [
            "https://wwwn.cdc.gov/Nchs/Nhanes/2013-2014/DEMO_H.htm\n"
          ]
        }
      ]
    },
    {
      "cell_type": "code",
      "source": [
        "code={'category':[],'variable':[],'label':[]}\n",
        "def parse_nhanes(links,code):\n",
        "  for c,urls in links.items():\n",
        "    for url in urls:\n",
        "      page=requests.get(url)\n",
        "      soup=bs(page.content,'html.parser')\n",
        "      container=soup.find_all('dl')\n",
        "      for i in container:\n",
        "        try:\n",
        "          varname=str(i.find('dt',string='Variable Name: ').findNext('dd').text)\n",
        "          saslabel=str(i.find('dt',string='SAS Label: ').findNext('dd').text)\n",
        "          code['category'].append(c)\n",
        "          code['variable'].append(varname.strip())\n",
        "          code['label'].append(saslabel.strip())\n",
        "\n",
        "        except:\n",
        "          pass\n",
        "  return code\n",
        "\n",
        "    \n",
        "parse_nhanes(links,code)\n"
      ],
      "metadata": {
        "id": "Id1JU0X9CnMk"
      },
      "execution_count": null,
      "outputs": []
    },
    {
      "cell_type": "code",
      "source": [
        "codebook=pd.DataFrame(code)\n",
        "codebook_unique=codebook[['variable','label']].drop_duplicates(subset=['variable'])\n"
      ],
      "metadata": {
        "id": "NwErSgVMxVAs"
      },
      "execution_count": null,
      "outputs": []
    },
    {
      "cell_type": "code",
      "source": [
        "xgbs=pd.merge(left=xgbs,right=codebook_unique,left_on='variable',right_on='variable',how='left')"
      ],
      "metadata": {
        "id": "zqpyj-Jw2mko"
      },
      "execution_count": null,
      "outputs": []
    },
    {
      "cell_type": "code",
      "source": [
        "var_name=xgbs.variable.to_list()\n",
        "var_name.append('MCQ160F')\n",
        "print(var_name)"
      ],
      "metadata": {
        "colab": {
          "base_uri": "https://localhost:8080/"
        },
        "id": "3iuUk_fW4BEJ",
        "outputId": "1621fdad-33ed-4200-b376-e4583d9b51b0"
      },
      "execution_count": null,
      "outputs": [
        {
          "output_type": "stream",
          "name": "stdout",
          "text": [
            "['DMDHHSZE', 'OHX13TC', 'OHX31TC', 'OHX02TC', 'OHX20TC', 'OHX09TC', 'OHX11TC', 'CSAEFFRT', 'MGDSEAT', 'OHX18TC', 'OHDEXSTS', 'INDFMPIR', 'LBXHBS', 'MGAPHAND', 'OHX06TC', 'OHX22TC', 'CSXQUIPT', 'LBDEONO', 'DMDBORN4', 'OHX17TC', 'SDMVPSU', 'BMXSAD1', 'DMDMARTL', 'RIDEXMON', 'MCQ160F']\n"
          ]
        }
      ]
    },
    {
      "cell_type": "code",
      "source": [
        "d.shape"
      ],
      "metadata": {
        "colab": {
          "base_uri": "https://localhost:8080/"
        },
        "id": "SLBdgRQ14BAf",
        "outputId": "e4bb1263-76f9-41ed-a543-5bfd3290854c"
      },
      "execution_count": null,
      "outputs": [
        {
          "output_type": "execute_result",
          "data": {
            "text/plain": [
              "(5583, 284)"
            ]
          },
          "metadata": {},
          "execution_count": 45
        }
      ]
    },
    {
      "cell_type": "code",
      "source": [
        "df_final=d.filter(var_name)\n",
        "df_final"
      ],
      "metadata": {
        "colab": {
          "base_uri": "https://localhost:8080/",
          "height": 488
        },
        "id": "TiitMfTb4A9i",
        "outputId": "47a599e2-f9dd-413a-b6ec-2d611f4b00be"
      },
      "execution_count": null,
      "outputs": [
        {
          "output_type": "execute_result",
          "data": {
            "text/plain": [
              "      DMDHHSZE  OHX13TC  OHX31TC  OHX02TC  OHX20TC  OHX09TC  OHX11TC  \\\n",
              "0          2.0      4.0      4.0      4.0      4.0      4.0      4.0   \n",
              "1          0.0      2.0      4.0      2.0      5.0      2.0      2.0   \n",
              "2          2.0      2.0      4.0      2.0      2.0      2.0      2.0   \n",
              "3          2.0      2.0      4.0      4.0      4.0      4.0      2.0   \n",
              "4          0.0      4.0      4.0      2.0      4.0      2.0      2.0   \n",
              "...        ...      ...      ...      ...      ...      ...      ...   \n",
              "5578       2.0      4.0      5.0      4.0      4.0      5.0      5.0   \n",
              "5579       2.0      2.0      4.0      4.0      2.0      2.0      2.0   \n",
              "5580       0.0      2.0      2.0      2.0      2.0      2.0      2.0   \n",
              "5581       0.0      2.0      2.0      2.0      2.0      2.0      2.0   \n",
              "5582       0.0      2.0      2.0      2.0      2.0      2.0      2.0   \n",
              "\n",
              "      CSAEFFRT  MGDSEAT  OHX18TC  ...  OHX22TC  CSXQUIPT  LBDEONO  DMDBORN4  \\\n",
              "0          1.0      1.0      4.0  ...      4.0       4.0      0.2       1.0   \n",
              "1          1.0      1.0      4.0  ...      2.0       4.0      0.8       1.0   \n",
              "2          3.0      1.0      2.0  ...      2.0       1.0      0.4       1.0   \n",
              "3          1.0      2.0      4.0  ...      2.0       2.0      0.2       1.0   \n",
              "4          1.0      1.0      4.0  ...      2.0       4.0      0.6       1.0   \n",
              "...        ...      ...      ...  ...      ...       ...      ...       ...   \n",
              "5578       2.0      1.0      4.0  ...      2.0       2.0      0.1       1.0   \n",
              "5579       1.0      2.0      2.0  ...      2.0       4.0      0.1       1.0   \n",
              "5580       1.0      1.0      2.0  ...      2.0       1.0      0.1       2.0   \n",
              "5581       1.0      1.0      2.0  ...      2.0       2.0      0.2       1.0   \n",
              "5582       3.0      1.0      2.0  ...      2.0       3.0      0.1       2.0   \n",
              "\n",
              "      OHX17TC  SDMVPSU  BMXSAD1  DMDMARTL  RIDEXMON  MCQ160F  \n",
              "0         4.0      1.0     20.5       4.0       1.0      1.0  \n",
              "1         4.0      1.0     24.2       1.0       1.0      0.0  \n",
              "2         4.0      1.0     25.8       1.0       2.0      0.0  \n",
              "3         4.0      2.0     19.0       1.0       1.0      0.0  \n",
              "4         2.0      1.0     29.1       3.0       1.0      0.0  \n",
              "...       ...      ...      ...       ...       ...      ...  \n",
              "5578      4.0      1.0     24.8       1.0       2.0      0.0  \n",
              "5579      4.0      1.0     21.0       1.0       1.0      0.0  \n",
              "5580      4.0      2.0     23.0       4.0       1.0      0.0  \n",
              "5581      4.0      1.0     19.0       5.0       2.0      0.0  \n",
              "5582      2.0      1.0     24.4       3.0       2.0      0.0  \n",
              "\n",
              "[5583 rows x 25 columns]"
            ],
            "text/html": [
              "\n",
              "  <div id=\"df-111171d0-97bb-4878-8549-740fe3365be5\">\n",
              "    <div class=\"colab-df-container\">\n",
              "      <div>\n",
              "<style scoped>\n",
              "    .dataframe tbody tr th:only-of-type {\n",
              "        vertical-align: middle;\n",
              "    }\n",
              "\n",
              "    .dataframe tbody tr th {\n",
              "        vertical-align: top;\n",
              "    }\n",
              "\n",
              "    .dataframe thead th {\n",
              "        text-align: right;\n",
              "    }\n",
              "</style>\n",
              "<table border=\"1\" class=\"dataframe\">\n",
              "  <thead>\n",
              "    <tr style=\"text-align: right;\">\n",
              "      <th></th>\n",
              "      <th>DMDHHSZE</th>\n",
              "      <th>OHX13TC</th>\n",
              "      <th>OHX31TC</th>\n",
              "      <th>OHX02TC</th>\n",
              "      <th>OHX20TC</th>\n",
              "      <th>OHX09TC</th>\n",
              "      <th>OHX11TC</th>\n",
              "      <th>CSAEFFRT</th>\n",
              "      <th>MGDSEAT</th>\n",
              "      <th>OHX18TC</th>\n",
              "      <th>...</th>\n",
              "      <th>OHX22TC</th>\n",
              "      <th>CSXQUIPT</th>\n",
              "      <th>LBDEONO</th>\n",
              "      <th>DMDBORN4</th>\n",
              "      <th>OHX17TC</th>\n",
              "      <th>SDMVPSU</th>\n",
              "      <th>BMXSAD1</th>\n",
              "      <th>DMDMARTL</th>\n",
              "      <th>RIDEXMON</th>\n",
              "      <th>MCQ160F</th>\n",
              "    </tr>\n",
              "  </thead>\n",
              "  <tbody>\n",
              "    <tr>\n",
              "      <th>0</th>\n",
              "      <td>2.0</td>\n",
              "      <td>4.0</td>\n",
              "      <td>4.0</td>\n",
              "      <td>4.0</td>\n",
              "      <td>4.0</td>\n",
              "      <td>4.0</td>\n",
              "      <td>4.0</td>\n",
              "      <td>1.0</td>\n",
              "      <td>1.0</td>\n",
              "      <td>4.0</td>\n",
              "      <td>...</td>\n",
              "      <td>4.0</td>\n",
              "      <td>4.0</td>\n",
              "      <td>0.2</td>\n",
              "      <td>1.0</td>\n",
              "      <td>4.0</td>\n",
              "      <td>1.0</td>\n",
              "      <td>20.5</td>\n",
              "      <td>4.0</td>\n",
              "      <td>1.0</td>\n",
              "      <td>1.0</td>\n",
              "    </tr>\n",
              "    <tr>\n",
              "      <th>1</th>\n",
              "      <td>0.0</td>\n",
              "      <td>2.0</td>\n",
              "      <td>4.0</td>\n",
              "      <td>2.0</td>\n",
              "      <td>5.0</td>\n",
              "      <td>2.0</td>\n",
              "      <td>2.0</td>\n",
              "      <td>1.0</td>\n",
              "      <td>1.0</td>\n",
              "      <td>4.0</td>\n",
              "      <td>...</td>\n",
              "      <td>2.0</td>\n",
              "      <td>4.0</td>\n",
              "      <td>0.8</td>\n",
              "      <td>1.0</td>\n",
              "      <td>4.0</td>\n",
              "      <td>1.0</td>\n",
              "      <td>24.2</td>\n",
              "      <td>1.0</td>\n",
              "      <td>1.0</td>\n",
              "      <td>0.0</td>\n",
              "    </tr>\n",
              "    <tr>\n",
              "      <th>2</th>\n",
              "      <td>2.0</td>\n",
              "      <td>2.0</td>\n",
              "      <td>4.0</td>\n",
              "      <td>2.0</td>\n",
              "      <td>2.0</td>\n",
              "      <td>2.0</td>\n",
              "      <td>2.0</td>\n",
              "      <td>3.0</td>\n",
              "      <td>1.0</td>\n",
              "      <td>2.0</td>\n",
              "      <td>...</td>\n",
              "      <td>2.0</td>\n",
              "      <td>1.0</td>\n",
              "      <td>0.4</td>\n",
              "      <td>1.0</td>\n",
              "      <td>4.0</td>\n",
              "      <td>1.0</td>\n",
              "      <td>25.8</td>\n",
              "      <td>1.0</td>\n",
              "      <td>2.0</td>\n",
              "      <td>0.0</td>\n",
              "    </tr>\n",
              "    <tr>\n",
              "      <th>3</th>\n",
              "      <td>2.0</td>\n",
              "      <td>2.0</td>\n",
              "      <td>4.0</td>\n",
              "      <td>4.0</td>\n",
              "      <td>4.0</td>\n",
              "      <td>4.0</td>\n",
              "      <td>2.0</td>\n",
              "      <td>1.0</td>\n",
              "      <td>2.0</td>\n",
              "      <td>4.0</td>\n",
              "      <td>...</td>\n",
              "      <td>2.0</td>\n",
              "      <td>2.0</td>\n",
              "      <td>0.2</td>\n",
              "      <td>1.0</td>\n",
              "      <td>4.0</td>\n",
              "      <td>2.0</td>\n",
              "      <td>19.0</td>\n",
              "      <td>1.0</td>\n",
              "      <td>1.0</td>\n",
              "      <td>0.0</td>\n",
              "    </tr>\n",
              "    <tr>\n",
              "      <th>4</th>\n",
              "      <td>0.0</td>\n",
              "      <td>4.0</td>\n",
              "      <td>4.0</td>\n",
              "      <td>2.0</td>\n",
              "      <td>4.0</td>\n",
              "      <td>2.0</td>\n",
              "      <td>2.0</td>\n",
              "      <td>1.0</td>\n",
              "      <td>1.0</td>\n",
              "      <td>4.0</td>\n",
              "      <td>...</td>\n",
              "      <td>2.0</td>\n",
              "      <td>4.0</td>\n",
              "      <td>0.6</td>\n",
              "      <td>1.0</td>\n",
              "      <td>2.0</td>\n",
              "      <td>1.0</td>\n",
              "      <td>29.1</td>\n",
              "      <td>3.0</td>\n",
              "      <td>1.0</td>\n",
              "      <td>0.0</td>\n",
              "    </tr>\n",
              "    <tr>\n",
              "      <th>...</th>\n",
              "      <td>...</td>\n",
              "      <td>...</td>\n",
              "      <td>...</td>\n",
              "      <td>...</td>\n",
              "      <td>...</td>\n",
              "      <td>...</td>\n",
              "      <td>...</td>\n",
              "      <td>...</td>\n",
              "      <td>...</td>\n",
              "      <td>...</td>\n",
              "      <td>...</td>\n",
              "      <td>...</td>\n",
              "      <td>...</td>\n",
              "      <td>...</td>\n",
              "      <td>...</td>\n",
              "      <td>...</td>\n",
              "      <td>...</td>\n",
              "      <td>...</td>\n",
              "      <td>...</td>\n",
              "      <td>...</td>\n",
              "      <td>...</td>\n",
              "    </tr>\n",
              "    <tr>\n",
              "      <th>5578</th>\n",
              "      <td>2.0</td>\n",
              "      <td>4.0</td>\n",
              "      <td>5.0</td>\n",
              "      <td>4.0</td>\n",
              "      <td>4.0</td>\n",
              "      <td>5.0</td>\n",
              "      <td>5.0</td>\n",
              "      <td>2.0</td>\n",
              "      <td>1.0</td>\n",
              "      <td>4.0</td>\n",
              "      <td>...</td>\n",
              "      <td>2.0</td>\n",
              "      <td>2.0</td>\n",
              "      <td>0.1</td>\n",
              "      <td>1.0</td>\n",
              "      <td>4.0</td>\n",
              "      <td>1.0</td>\n",
              "      <td>24.8</td>\n",
              "      <td>1.0</td>\n",
              "      <td>2.0</td>\n",
              "      <td>0.0</td>\n",
              "    </tr>\n",
              "    <tr>\n",
              "      <th>5579</th>\n",
              "      <td>2.0</td>\n",
              "      <td>2.0</td>\n",
              "      <td>4.0</td>\n",
              "      <td>4.0</td>\n",
              "      <td>2.0</td>\n",
              "      <td>2.0</td>\n",
              "      <td>2.0</td>\n",
              "      <td>1.0</td>\n",
              "      <td>2.0</td>\n",
              "      <td>2.0</td>\n",
              "      <td>...</td>\n",
              "      <td>2.0</td>\n",
              "      <td>4.0</td>\n",
              "      <td>0.1</td>\n",
              "      <td>1.0</td>\n",
              "      <td>4.0</td>\n",
              "      <td>1.0</td>\n",
              "      <td>21.0</td>\n",
              "      <td>1.0</td>\n",
              "      <td>1.0</td>\n",
              "      <td>0.0</td>\n",
              "    </tr>\n",
              "    <tr>\n",
              "      <th>5580</th>\n",
              "      <td>0.0</td>\n",
              "      <td>2.0</td>\n",
              "      <td>2.0</td>\n",
              "      <td>2.0</td>\n",
              "      <td>2.0</td>\n",
              "      <td>2.0</td>\n",
              "      <td>2.0</td>\n",
              "      <td>1.0</td>\n",
              "      <td>1.0</td>\n",
              "      <td>2.0</td>\n",
              "      <td>...</td>\n",
              "      <td>2.0</td>\n",
              "      <td>1.0</td>\n",
              "      <td>0.1</td>\n",
              "      <td>2.0</td>\n",
              "      <td>4.0</td>\n",
              "      <td>2.0</td>\n",
              "      <td>23.0</td>\n",
              "      <td>4.0</td>\n",
              "      <td>1.0</td>\n",
              "      <td>0.0</td>\n",
              "    </tr>\n",
              "    <tr>\n",
              "      <th>5581</th>\n",
              "      <td>0.0</td>\n",
              "      <td>2.0</td>\n",
              "      <td>2.0</td>\n",
              "      <td>2.0</td>\n",
              "      <td>2.0</td>\n",
              "      <td>2.0</td>\n",
              "      <td>2.0</td>\n",
              "      <td>1.0</td>\n",
              "      <td>1.0</td>\n",
              "      <td>2.0</td>\n",
              "      <td>...</td>\n",
              "      <td>2.0</td>\n",
              "      <td>2.0</td>\n",
              "      <td>0.2</td>\n",
              "      <td>1.0</td>\n",
              "      <td>4.0</td>\n",
              "      <td>1.0</td>\n",
              "      <td>19.0</td>\n",
              "      <td>5.0</td>\n",
              "      <td>2.0</td>\n",
              "      <td>0.0</td>\n",
              "    </tr>\n",
              "    <tr>\n",
              "      <th>5582</th>\n",
              "      <td>0.0</td>\n",
              "      <td>2.0</td>\n",
              "      <td>2.0</td>\n",
              "      <td>2.0</td>\n",
              "      <td>2.0</td>\n",
              "      <td>2.0</td>\n",
              "      <td>2.0</td>\n",
              "      <td>3.0</td>\n",
              "      <td>1.0</td>\n",
              "      <td>2.0</td>\n",
              "      <td>...</td>\n",
              "      <td>2.0</td>\n",
              "      <td>3.0</td>\n",
              "      <td>0.1</td>\n",
              "      <td>2.0</td>\n",
              "      <td>2.0</td>\n",
              "      <td>1.0</td>\n",
              "      <td>24.4</td>\n",
              "      <td>3.0</td>\n",
              "      <td>2.0</td>\n",
              "      <td>0.0</td>\n",
              "    </tr>\n",
              "  </tbody>\n",
              "</table>\n",
              "<p>5583 rows × 25 columns</p>\n",
              "</div>\n",
              "      <button class=\"colab-df-convert\" onclick=\"convertToInteractive('df-111171d0-97bb-4878-8549-740fe3365be5')\"\n",
              "              title=\"Convert this dataframe to an interactive table.\"\n",
              "              style=\"display:none;\">\n",
              "        \n",
              "  <svg xmlns=\"http://www.w3.org/2000/svg\" height=\"24px\"viewBox=\"0 0 24 24\"\n",
              "       width=\"24px\">\n",
              "    <path d=\"M0 0h24v24H0V0z\" fill=\"none\"/>\n",
              "    <path d=\"M18.56 5.44l.94 2.06.94-2.06 2.06-.94-2.06-.94-.94-2.06-.94 2.06-2.06.94zm-11 1L8.5 8.5l.94-2.06 2.06-.94-2.06-.94L8.5 2.5l-.94 2.06-2.06.94zm10 10l.94 2.06.94-2.06 2.06-.94-2.06-.94-.94-2.06-.94 2.06-2.06.94z\"/><path d=\"M17.41 7.96l-1.37-1.37c-.4-.4-.92-.59-1.43-.59-.52 0-1.04.2-1.43.59L10.3 9.45l-7.72 7.72c-.78.78-.78 2.05 0 2.83L4 21.41c.39.39.9.59 1.41.59.51 0 1.02-.2 1.41-.59l7.78-7.78 2.81-2.81c.8-.78.8-2.07 0-2.86zM5.41 20L4 18.59l7.72-7.72 1.47 1.35L5.41 20z\"/>\n",
              "  </svg>\n",
              "      </button>\n",
              "      \n",
              "  <style>\n",
              "    .colab-df-container {\n",
              "      display:flex;\n",
              "      flex-wrap:wrap;\n",
              "      gap: 12px;\n",
              "    }\n",
              "\n",
              "    .colab-df-convert {\n",
              "      background-color: #E8F0FE;\n",
              "      border: none;\n",
              "      border-radius: 50%;\n",
              "      cursor: pointer;\n",
              "      display: none;\n",
              "      fill: #1967D2;\n",
              "      height: 32px;\n",
              "      padding: 0 0 0 0;\n",
              "      width: 32px;\n",
              "    }\n",
              "\n",
              "    .colab-df-convert:hover {\n",
              "      background-color: #E2EBFA;\n",
              "      box-shadow: 0px 1px 2px rgba(60, 64, 67, 0.3), 0px 1px 3px 1px rgba(60, 64, 67, 0.15);\n",
              "      fill: #174EA6;\n",
              "    }\n",
              "\n",
              "    [theme=dark] .colab-df-convert {\n",
              "      background-color: #3B4455;\n",
              "      fill: #D2E3FC;\n",
              "    }\n",
              "\n",
              "    [theme=dark] .colab-df-convert:hover {\n",
              "      background-color: #434B5C;\n",
              "      box-shadow: 0px 1px 3px 1px rgba(0, 0, 0, 0.15);\n",
              "      filter: drop-shadow(0px 1px 2px rgba(0, 0, 0, 0.3));\n",
              "      fill: #FFFFFF;\n",
              "    }\n",
              "  </style>\n",
              "\n",
              "      <script>\n",
              "        const buttonEl =\n",
              "          document.querySelector('#df-111171d0-97bb-4878-8549-740fe3365be5 button.colab-df-convert');\n",
              "        buttonEl.style.display =\n",
              "          google.colab.kernel.accessAllowed ? 'block' : 'none';\n",
              "\n",
              "        async function convertToInteractive(key) {\n",
              "          const element = document.querySelector('#df-111171d0-97bb-4878-8549-740fe3365be5');\n",
              "          const dataTable =\n",
              "            await google.colab.kernel.invokeFunction('convertToInteractive',\n",
              "                                                     [key], {});\n",
              "          if (!dataTable) return;\n",
              "\n",
              "          const docLinkHtml = 'Like what you see? Visit the ' +\n",
              "            '<a target=\"_blank\" href=https://colab.research.google.com/notebooks/data_table.ipynb>data table notebook</a>'\n",
              "            + ' to learn more about interactive tables.';\n",
              "          element.innerHTML = '';\n",
              "          dataTable['output_type'] = 'display_data';\n",
              "          await google.colab.output.renderOutput(dataTable, element);\n",
              "          const docLink = document.createElement('div');\n",
              "          docLink.innerHTML = docLinkHtml;\n",
              "          element.appendChild(docLink);\n",
              "        }\n",
              "      </script>\n",
              "    </div>\n",
              "  </div>\n",
              "  "
            ]
          },
          "metadata": {},
          "execution_count": 46
        }
      ]
    },
    {
      "cell_type": "code",
      "source": [
        "ax=plt.subplots(figsize=(20,20))\n",
        "\n",
        "sns.heatmap(data=df_final.corr(), cmap=sns.cm.rocket_r,annot=True, fmt='.1g')\n",
        "#plt.xticks(rotation=15)"
      ],
      "metadata": {
        "colab": {
          "base_uri": "https://localhost:8080/",
          "height": 1000
        },
        "id": "H9icpk0_4A6f",
        "outputId": "a467419f-b277-4a06-f845-13e45d5c00ef"
      },
      "execution_count": null,
      "outputs": [
        {
          "output_type": "execute_result",
          "data": {
            "text/plain": [
              "<matplotlib.axes._subplots.AxesSubplot at 0x7f6b6a9eab10>"
            ]
          },
          "metadata": {},
          "execution_count": 47
        },
        {
          "output_type": "display_data",
          "data": {
            "text/plain": [
              "<Figure size 1440x1440 with 2 Axes>"
            ],
            "image/png": "[encoded data removed]"
          },
          "metadata": {
            "needs_background": "light"
          }
        }
      ]
    },
    {
      "cell_type": "code",
      "source": [
        "x_=df_final.loc[:,df_final.columns!='MCQ160F']\n",
        "y=df_final['MCQ160F']"
      ],
      "metadata": {
        "id": "ENyLaQVJ4A3h"
      },
      "execution_count": null,
      "outputs": []
    },
    {
      "cell_type": "code",
      "source": [
        "from sklearn.preprocessing import MinMaxScaler"
      ],
      "metadata": {
        "id": "i7WgSUoh4A0K"
      },
      "execution_count": null,
      "outputs": []
    },
    {
      "cell_type": "code",
      "source": [
        "minmax=MinMaxScaler()\n",
        "X=pd.DataFrame(minmax.fit_transform(x_),columns=x_.columns)"
      ],
      "metadata": {
        "id": "K659wmce4AxJ"
      },
      "execution_count": null,
      "outputs": []
    },
    {
      "cell_type": "code",
      "source": [
        "from sklearn.model_selection import train_test_split\n",
        "X_train,X_test,y_train,y_test=train_test_split(X,y,random_state=11)"
      ],
      "metadata": {
        "id": "7GKlvkOu4Ata"
      },
      "execution_count": null,
      "outputs": []
    },
    {
      "cell_type": "code",
      "source": [
        "from imblearn.over_sampling import SMOTE"
      ],
      "metadata": {
        "id": "Vw7UfcK44Am4"
      },
      "execution_count": null,
      "outputs": []
    },
    {
      "cell_type": "code",
      "source": [
        "smote=SMOTE()\n",
        "X_train_sm,y_train_sm=smote.fit_resample(X_train,y_train)\n",
        "X_train_sm=pd.DataFrame(X_train_sm,columns=X.columns)\n"
      ],
      "metadata": {
        "id": "Jxvtq2fr0KiH"
      },
      "execution_count": null,
      "outputs": []
    },
    {
      "cell_type": "code",
      "source": [
        "print('x train shape:',X_train.shape)\n",
        "print('t train value count:\\n',y_train.value_counts())\n",
        "print()\n",
        "print('x train shape:',X_train_sm.shape)\n",
        "print('t train value count:\\n',y_train_sm.value_counts())\n",
        "print()\n",
        "print('x train shape:',X_test.shape)\n",
        "print('t train value count:\\n',y_test.value_counts())"
      ],
      "metadata": {
        "colab": {
          "base_uri": "https://localhost:8080/"
        },
        "id": "_FuRIwubrpDl",
        "outputId": "a10e0ec0-1b82-4fc5-c0c9-db1c04b9bbf7"
      },
      "execution_count": null,
      "outputs": [
        {
          "output_type": "stream",
          "name": "stdout",
          "text": [
            "x train shape: (4187, 24)\n",
            "t train value count:\n",
            " 0.0    4033\n",
            "1.0     154\n",
            "Name: MCQ160F, dtype: int64\n",
            "\n",
            "x train shape: (8066, 24)\n",
            "t train value count:\n",
            " 0.0    4033\n",
            "1.0    4033\n",
            "Name: MCQ160F, dtype: int64\n",
            "\n",
            "x train shape: (1396, 24)\n",
            "t train value count:\n",
            " 0.0    1356\n",
            "1.0      40\n",
            "Name: MCQ160F, dtype: int64\n"
          ]
        }
      ]
    },
    {
      "cell_type": "code",
      "source": [
        "mscore=[]"
      ],
      "metadata": {
        "id": "obq6QvXArpAF"
      },
      "execution_count": null,
      "outputs": []
    },
    {
      "cell_type": "markdown",
      "source": [
        "# Logostic Regression"
      ],
      "metadata": {
        "id": "sTRZlaE8ud0b"
      }
    },
    {
      "cell_type": "code",
      "source": [
        "from sklearn.linear_model import LogisticRegression\n",
        "logreg=LogisticRegression(max_iter=100, solver='lbfgs', class_weight='balanced',random_state=11).fit(X_train_sm,y_train_sm)\n",
        "y_pred=logreg.predict(X_test)\n",
        "\n",
        "\n",
        "\n",
        "print('Accuracy score:',logreg.score(X_test,y_test))\n",
        "print('predictions: ',y_pred)\n",
        "mscore.append(['Logistic_Regression score',logreg.score(X_test,y_test)])\n",
        "\n",
        "print('Classification report:',classification_report(y_test,y_pred))\n",
        "print('confusion matrix:\\n',confusion_matrix(y_test,y_pred))"
      ],
      "metadata": {
        "colab": {
          "base_uri": "https://localhost:8080/"
        },
        "id": "1gpAOWRkro5c",
        "outputId": "808df84b-64cb-4f92-a132-bbca51cc4b3f"
      },
      "execution_count": null,
      "outputs": [
        {
          "output_type": "stream",
          "name": "stdout",
          "text": [
            "Accuracy score: 0.7643266475644699\n",
            "predictions:  [0. 0. 0. ... 0. 0. 1.]\n",
            "Classification report:               precision    recall  f1-score   support\n",
            "\n",
            "         0.0       0.99      0.76      0.86      1356\n",
            "         1.0       0.09      0.80      0.16        40\n",
            "\n",
            "    accuracy                           0.76      1396\n",
            "   macro avg       0.54      0.78      0.51      1396\n",
            "weighted avg       0.97      0.76      0.84      1396\n",
            "\n",
            "confusion matrix:\n",
            " [[1035  321]\n",
            " [   8   32]]\n"
          ]
        }
      ]
    },
    {
      "cell_type": "code",
      "source": [
        ""
      ],
      "metadata": {
        "id": "ZOUWCKxnro1j"
      },
      "execution_count": null,
      "outputs": []
    },
    {
      "cell_type": "markdown",
      "source": [
        "# Random Forest"
      ],
      "metadata": {
        "id": "X7J1-i48WBK5"
      }
    },
    {
      "cell_type": "code",
      "source": [
        "from sklearn.ensemble import RandomForestClassifier"
      ],
      "metadata": {
        "id": "984-x0LUroyM"
      },
      "execution_count": null,
      "outputs": []
    },
    {
      "cell_type": "code",
      "source": [
        "ranforcla=RandomForestClassifier(n_estimators=96,max_depth=5,random_state=11)\n",
        "ranforcla.fit(X_train_sm,y_train_sm)\n",
        "y_pred=ranforcla.predict(X_test)\n",
        "print('Accuracy Score:',ranforcla.score(X_test,y_test))\n",
        "print('Predictions:',y_pred)\n",
        "\n",
        "mscore.append(['Random Forest Score :',ranforcla.score(X_test,y_test)])\n",
        "\n",
        "print('classification report:',classification_report(y_test,y_pred))\n",
        "print('confusion metrics:\\n',confusion_matrix(y_test,y_pred))\n"
      ],
      "metadata": {
        "colab": {
          "base_uri": "https://localhost:8080/"
        },
        "id": "meUwCZifrous",
        "outputId": "e0237a5e-c960-4a1e-ea7f-528ab8cbcd30"
      },
      "execution_count": null,
      "outputs": [
        {
          "output_type": "stream",
          "name": "stdout",
          "text": [
            "Accuracy Score: 0.8617478510028653\n",
            "Predictions: [0. 0. 0. ... 0. 0. 1.]\n",
            "classification report:               precision    recall  f1-score   support\n",
            "\n",
            "         0.0       0.99      0.87      0.92      1356\n",
            "         1.0       0.12      0.60      0.20        40\n",
            "\n",
            "    accuracy                           0.86      1396\n",
            "   macro avg       0.55      0.73      0.56      1396\n",
            "weighted avg       0.96      0.86      0.90      1396\n",
            "\n",
            "confusion metrics:\n",
            " [[1179  177]\n",
            " [  16   24]]\n"
          ]
        }
      ]
    },
    {
      "cell_type": "code",
      "source": [
        ""
      ],
      "metadata": {
        "id": "B2rBGpY3_oYz"
      },
      "execution_count": null,
      "outputs": []
    },
    {
      "cell_type": "markdown",
      "source": [
        "# Gradient Boosting Decision Tree"
      ],
      "metadata": {
        "id": "8yS_uwoT_q-_"
      }
    },
    {
      "cell_type": "code",
      "source": [
        "from sklearn.ensemble import GradientBoostingClassifier\n",
        "gbcl=GradientBoostingClassifier(learning_rate=0.1, n_estimators=10,random_state=11)"
      ],
      "metadata": {
        "id": "U6TXCygr_oTG"
      },
      "execution_count": null,
      "outputs": []
    },
    {
      "cell_type": "code",
      "source": [
        "gbcl.fit(X_train_sm,y_train_sm)\n",
        "y_pred=gbcl.predict(X_test)\n",
        "\n",
        "print('accuracy score:',gbcl.score(X_test,y_test))\n",
        "print('prediction:',y_pred)\n",
        "mscore.append(['Gradient Boosting Decision Tree:',gbcl.score(X_test,y_test)])\n",
        "\n",
        "print('classification report:',classification_report(y_test,y_pred))\n",
        "print('confusion matrix:\\n',confusion_matrix(y_test,y_pred))"
      ],
      "metadata": {
        "colab": {
          "base_uri": "https://localhost:8080/"
        },
        "id": "vjqnAp7x_oP5",
        "outputId": "35a79930-f066-471d-8670-e3d98a87a610"
      },
      "execution_count": null,
      "outputs": [
        {
          "output_type": "stream",
          "name": "stdout",
          "text": [
            "accuracy score: 0.7585959885386819\n",
            "prediction: [0. 0. 0. ... 0. 0. 1.]\n",
            "classification report:               precision    recall  f1-score   support\n",
            "\n",
            "         0.0       0.99      0.76      0.86      1356\n",
            "         1.0       0.07      0.62      0.13        40\n",
            "\n",
            "    accuracy                           0.76      1396\n",
            "   macro avg       0.53      0.69      0.49      1396\n",
            "weighted avg       0.96      0.76      0.84      1396\n",
            "\n",
            "confusion matrix:\n",
            " [[1034  322]\n",
            " [  15   25]]\n"
          ]
        }
      ]
    },
    {
      "cell_type": "code",
      "source": [
        ""
      ],
      "metadata": {
        "id": "nEizM2HP_oM6"
      },
      "execution_count": null,
      "outputs": []
    },
    {
      "cell_type": "markdown",
      "source": [
        "# AdaBoostClassifier"
      ],
      "metadata": {
        "id": "gfhY0Jprx9Bv"
      }
    },
    {
      "cell_type": "code",
      "source": [
        "from sklearn.ensemble import AdaBoostClassifier\n",
        "abc=AdaBoostClassifier(learning_rate=0.1,n_estimators=30, random_state=11)"
      ],
      "metadata": {
        "id": "k1qRxC9b_oKB"
      },
      "execution_count": null,
      "outputs": []
    },
    {
      "cell_type": "code",
      "source": [
        "abc.fit(X_train_sm,y_train_sm)\n",
        "y_predict=abc.predict(X_test)\n",
        "\n",
        "print(\"Accuracy Score : \",abc.score(X_test,y_test))\n",
        "print(\"Prediction : \",y_predict)\n",
        "\n",
        "mscore.append(['Ada Boost Classifire: ',abc.score(X_test,y_test)])\n",
        "\n",
        "print('classification report: \\n',classification_report(y_test,y_predict))\n",
        "print('confusion matrix: \\n',confusion_matrix(y_test,y_predict))"
      ],
      "metadata": {
        "id": "XC7Z1PdB_oG1",
        "colab": {
          "base_uri": "https://localhost:8080/"
        },
        "outputId": "1da4721c-7c68-4c42-8c7b-e7f45065aebf"
      },
      "execution_count": null,
      "outputs": [
        {
          "output_type": "stream",
          "name": "stdout",
          "text": [
            "Accuracy Score :  0.7657593123209169\n",
            "Prediction :  [0. 0. 0. ... 0. 0. 1.]\n",
            "classification report: \n",
            "               precision    recall  f1-score   support\n",
            "\n",
            "         0.0       0.99      0.77      0.86      1356\n",
            "         1.0       0.07      0.62      0.13        40\n",
            "\n",
            "    accuracy                           0.77      1396\n",
            "   macro avg       0.53      0.70      0.50      1396\n",
            "weighted avg       0.96      0.77      0.84      1396\n",
            "\n",
            "confusion matrix: \n",
            " [[1044  312]\n",
            " [  15   25]]\n"
          ]
        }
      ]
    },
    {
      "cell_type": "markdown",
      "source": [
        "# SVM"
      ],
      "metadata": {
        "id": "KWSsRLnnp1A9"
      }
    },
    {
      "cell_type": "code",
      "source": [
        "from sklearn.svm import SVC"
      ],
      "metadata": {
        "id": "vXnwDstZ_oBY"
      },
      "execution_count": null,
      "outputs": []
    },
    {
      "cell_type": "code",
      "source": [
        "svc_clf=SVC(kernel='sigmoid',gamma='auto',random_state=11)\n",
        "svc_clf.fit(X_train_sm,y_train_sm)\n",
        "y_pred=svc_clf.predict(X_test)\n",
        "#y_pred\n",
        "\n",
        "print('Accuracy_score :',svc_clf.score(X_test,y_test))\n",
        "print('Predictions : ',y_pred)\n",
        "mscore.append(['SVC model score : ',svc_clf.score(X_test,y_test)])\n",
        "\n",
        "print('classification report :\\n',classification_report(y_test,y_pred))\n",
        "print('confusion matrix : \\n',confusion_matrix(y_test,y_pred))"
      ],
      "metadata": {
        "id": "wIxLusJD_n-j",
        "colab": {
          "base_uri": "https://localhost:8080/"
        },
        "outputId": "713d8fc8-8d81-4042-c512-92f1853f57e6"
      },
      "execution_count": null,
      "outputs": [
        {
          "output_type": "stream",
          "name": "stdout",
          "text": [
            "Accuracy_score : 0.7263610315186246\n",
            "Predictions :  [0. 0. 0. ... 0. 0. 1.]\n",
            "classification report :\n",
            "               precision    recall  f1-score   support\n",
            "\n",
            "         0.0       0.99      0.72      0.84      1356\n",
            "         1.0       0.08      0.82      0.15        40\n",
            "\n",
            "    accuracy                           0.73      1396\n",
            "   macro avg       0.54      0.77      0.49      1396\n",
            "weighted avg       0.97      0.73      0.82      1396\n",
            "\n",
            "confusion matrix : \n",
            " [[981 375]\n",
            " [  7  33]]\n"
          ]
        }
      ]
    },
    {
      "cell_type": "markdown",
      "source": [
        "# XGBoost"
      ],
      "metadata": {
        "id": "QCL2IluddnTg"
      }
    },
    {
      "cell_type": "code",
      "source": [
        "from sklearn.ensemble import GradientBoostingClassifier"
      ],
      "metadata": {
        "id": "DKClZ0TT_n4a"
      },
      "execution_count": null,
      "outputs": []
    },
    {
      "cell_type": "code",
      "source": [
        "from numpy.ma.core import append\n",
        "xgb=GradientBoostingClassifier(learning_rate=0.01,max_depth=3)\n",
        "xgb.fit(X_train_sm,y_train_sm)\n",
        "y_pred=xgb.predict(X_test)\n",
        "\n",
        "print('Accuracy score : ',xgb.score(X_test,y_test))\n",
        "print('Predictions : ',y_pred)\n",
        "mscore.append(['xgb score : ',xgb.score(X_test,y_test)])\n",
        "\n",
        "from sklearn.metrics import classification_report\n",
        "print('Classification report : \\n',classification_report(y_test,y_pred))\n",
        "print('Confusion matrix :\\n',confusion_matrix(y_test,y_pred))"
      ],
      "metadata": {
        "id": "DMj_l3dnropl",
        "colab": {
          "base_uri": "https://localhost:8080/"
        },
        "outputId": "d5f931f7-3aac-4e31-d06d-95ba33fff510"
      },
      "execution_count": null,
      "outputs": [
        {
          "output_type": "stream",
          "name": "stdout",
          "text": [
            "Accuracy score :  0.7729226361031518\n",
            "Predictions :  [0. 0. 0. ... 0. 0. 1.]\n",
            "Classification report : \n",
            "               precision    recall  f1-score   support\n",
            "\n",
            "         0.0       0.99      0.78      0.87      1356\n",
            "         1.0       0.08      0.62      0.14        40\n",
            "\n",
            "    accuracy                           0.77      1396\n",
            "   macro avg       0.53      0.70      0.50      1396\n",
            "weighted avg       0.96      0.77      0.85      1396\n",
            "\n",
            "Confusion matrix :\n",
            " [[1054  302]\n",
            " [  15   25]]\n"
          ]
        }
      ]
    },
    {
      "cell_type": "code",
      "source": [
        "# scores=[]\n",
        "# for i in range(90,130):\n",
        "#   ranforcla_1=RandomForestClassifier(n_estimators=i,max_depth=5,random_state=11)\n",
        "#   ranforcla_1.fit(X_train_sm,y_train_sm)\n",
        "#   scores.append(['Accuracy Score @ {0}:'.format(i),ranforcla_1.score(X_test,y_test)])\n",
        "# #y_pred=ranforcla.predict(X_test)"
      ],
      "metadata": {
        "id": "Wr3bk68VbacM"
      },
      "execution_count": null,
      "outputs": []
    },
    {
      "cell_type": "code",
      "source": [
        "y_test.shape"
      ],
      "metadata": {
        "id": "xZmxr69VsQH5",
        "colab": {
          "base_uri": "https://localhost:8080/"
        },
        "outputId": "9a1698bc-d328-4378-bd14-09a9d732fb16"
      },
      "execution_count": null,
      "outputs": [
        {
          "output_type": "execute_result",
          "data": {
            "text/plain": [
              "(1396,)"
            ]
          },
          "metadata": {},
          "execution_count": 68
        }
      ]
    },
    {
      "cell_type": "markdown",
      "source": [
        "# Models Comparison"
      ],
      "metadata": {
        "id": "X2LMMu9Wro9E"
      }
    },
    {
      "cell_type": "code",
      "source": [
        "mscore.sort(key=lambda x:x[1],reverse=True)\n"
      ],
      "metadata": {
        "id": "IX4xzwQ5or9j"
      },
      "execution_count": null,
      "outputs": []
    },
    {
      "cell_type": "code",
      "source": [
        "mscore"
      ],
      "metadata": {
        "id": "8944ffi_ouTU",
        "colab": {
          "base_uri": "https://localhost:8080/"
        },
        "outputId": "98fbc8bd-891f-425e-83c3-df084054ac6c"
      },
      "execution_count": null,
      "outputs": [
        {
          "output_type": "execute_result",
          "data": {
            "text/plain": [
              "[['Random Forest Score :', 0.8617478510028653],\n",
              " ['xgb score : ', 0.7729226361031518],\n",
              " ['Ada Boost Classifire: ', 0.7657593123209169],\n",
              " ['Logistic_Regression score', 0.7643266475644699],\n",
              " ['Gradient Boosting Decision Tree:', 0.7585959885386819],\n",
              " ['SVC model score : ', 0.7263610315186246]]"
            ]
          },
          "metadata": {},
          "execution_count": 70
        }
      ]
    },
    {
      "cell_type": "code",
      "source": [
        "model=list(i[0] for i in mscore)\n",
        "score=list(round(i[1]*100,2) for i in mscore)\n",
        "print('Accuracy Score :\\n')\n",
        "for m,s in zip(model,score):\n",
        "  print(f'{m} {s}%')\n",
        "\n",
        "plt.barh(model,score, height = 0.5, color='#4B4E6D')\n",
        "plt.xlabel('Score')\n",
        "plt.ylabel('Model Name')\n",
        "plt.title('Model Score Comparision')\n"
      ],
      "metadata": {
        "colab": {
          "base_uri": "https://localhost:8080/",
          "height": 468
        },
        "id": "PVvAyTELQF0d",
        "outputId": "acbddd30-f522-432e-86d3-6178e512cc1c"
      },
      "execution_count": null,
      "outputs": [
        {
          "output_type": "stream",
          "name": "stdout",
          "text": [
            "Accuracy Score :\n",
            "\n",
            "Random Forest Score : 86.17%\n",
            "xgb score :  77.29%\n",
            "Ada Boost Classifire:  76.58%\n",
            "Logistic_Regression score 76.43%\n",
            "Gradient Boosting Decision Tree: 75.86%\n",
            "SVC model score :  72.64%\n"
          ]
        },
        {
          "output_type": "execute_result",
          "data": {
            "text/plain": [
              "Text(0.5, 1.0, 'Model Score Comparision')"
            ]
          },
          "metadata": {},
          "execution_count": 79
        },
        {
          "output_type": "display_data",
          "data": {
            "text/plain": [
              "<Figure size 432x288 with 1 Axes>"
            ],
            "image/png": "[encoded data removed]"
          },
          "metadata": {
            "needs_background": "light"
          }
        }
      ]
    },
    {
      "cell_type": "code",
      "source": [
        ""
      ],
      "metadata": {
        "id": "kO26X1BSQbPj"
      },
      "execution_count": null,
      "outputs": []
    },
    {
      "cell_type": "code",
      "source": [
        ""
      ],
      "metadata": {
        "id": "dAq5XzOnQg3U"
      },
      "execution_count": null,
      "outputs": []
    }
  ]
}