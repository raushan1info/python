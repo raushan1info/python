{
  "cells": [
    {
      "cell_type": "code",
      "execution_count": null,
      "metadata": {
        "id": "ksyrlJlbPZfb"
      },
      "outputs": [],
      "source": [
        "from bs4 import   BeautifulSoup as bs\n",
        "import requests as re"
      ]
    },
    {
      "cell_type": "code",
      "execution_count": null,
      "metadata": {
        "id": "ieHeM-Pubs7E"
      },
      "outputs": [],
      "source": [
        "#### Movie Data"
      ]
    },
    {
      "cell_type": "markdown",
      "source": [
        ". Methods to scrub Disney data"
      ],
      "metadata": {
        "id": "78yaslgLl93N"
      }
    },
    {
      "cell_type": "code",
      "source": [
        "\n",
        "def get_content_value(row_data):\n",
        "  if row_data.find('li'):\n",
        "    return [li.get_text().replace('\\xa0',' ') for li in row_data.find_all('li')]\n",
        "\n",
        "  elif row_data.find('br'):\n",
        "    return [br for br in row_data.stripped_strings]\n",
        "\n",
        "  else:\n",
        "    return row_data.get_text().replace('\\xa0',' ')\n",
        "\n",
        "\n",
        "def remove_tag(soup):\n",
        "  for tag in soup.find_all(['sup','span']):\n",
        "    tag.decompose()\n",
        "\n",
        "\n",
        "def get_info_box(url):\n",
        "  r=re.get(url)\n",
        "  soup=bs(r.content)\n",
        "  info_box=soup.find(class_='infobox vevent')\n",
        "  info_rows=info_box.find_all('tr')\n",
        "  \n",
        "  remove_tag(soup)\n",
        "\n",
        "  movie_info={}\n",
        "  for index,row in enumerate(info_rows):\n",
        "    if index==0 and row.find('th').get_text()!=\"Planes: Fire & Rescue\":\n",
        "      movie_info['Title']=row.find('th').get_text()\n",
        "    else:\n",
        "      header=row.find('th')\n",
        "      if header:\n",
        "        content_key=row.find('th').get_text()\n",
        "        content_value=get_content_value(row.find('td'))\n",
        "        movie_info[content_key]=content_value\n",
        "  return movie_info"
      ],
      "metadata": {
        "id": "zUXkS0aOehs5"
      },
      "execution_count": null,
      "outputs": []
    },
    {
      "cell_type": "markdown",
      "source": [
        ". Scrubing Disney movie data"
      ],
      "metadata": {
        "id": "bNQhGghbmFvH"
      }
    },
    {
      "cell_type": "code",
      "execution_count": null,
      "metadata": {
        "id": "UBPDKYD4bs-M"
      },
      "outputs": [],
      "source": [
        "r=re.get('https://en.wikipedia.org/wiki/List_of_Walt_Disney_Pictures_films')\n",
        "path='https://en.wikipedia.org/'\n",
        "soup=bs(r.content)\n",
        "movies=soup.select('.wikitable.sortable i a')\n",
        "\n",
        "movie_info_list=[]\n",
        "for index,movie in enumerate(movies):\n",
        "  try:\n",
        "    relative_path=movie['href']\n",
        "    full_path=path + relative_path\n",
        "    title=movie['title']\n",
        "    movie_info_list.append(get_info_box(full_path))\n",
        "  except Exception as e:\n",
        "    print(movie.get_text())\n",
        "    print(e)\n"
      ]
    },
    {
      "cell_type": "markdown",
      "source": [
        ". Cleaning and converting running time into mins"
      ],
      "metadata": {
        "id": "fU9xVUMVmQLC"
      }
    },
    {
      "cell_type": "code",
      "source": [
        "#### Methods to convert running time into int datatype\n",
        "\n",
        "def mins_to_intiger (running_time):\n",
        "  try:\n",
        "    if running_time=='N/A':\n",
        "      return None\n",
        "    \n",
        "\n",
        "    if isinstance(running_time,list):\n",
        "      return int(running_time[0].split(' ')[0])\n",
        "\n",
        "    # elif running_time.isalnum():\n",
        "    #   return [int(s) for s in running_time.split() if s.isdigit()]\n",
        "    \n",
        "    else:\n",
        "      return int(running_time.split(' ')[0])\n",
        "    \n",
        "  except Exception as e:\n",
        "    print(e)\n",
        "\n"
      ],
      "metadata": {
        "id": "ztfgAYl4kNPT"
      },
      "execution_count": null,
      "outputs": []
    },
    {
      "cell_type": "code",
      "source": [
        "### converting mins into intiger\n",
        "\n",
        "for movie in movie_info_list:\n",
        "  movie['Running time (mins)']=mins_to_intiger(movie.get('Running time','N/A'))"
      ],
      "metadata": {
        "id": "1pAVSHgdsDgd"
      },
      "execution_count": null,
      "outputs": []
    },
    {
      "cell_type": "markdown",
      "source": [
        ". Usiing reguler expression, converting Boxoffice and Budget into numeric value"
      ],
      "metadata": {
        "id": "786kjf2wHqkL"
      }
    },
    {
      "cell_type": "code",
      "source": [
        "import re"
      ],
      "metadata": {
        "id": "3wJzWGnkHtd0"
      },
      "execution_count": null,
      "outputs": []
    },
    {
      "cell_type": "code",
      "source": [
        "#### Methods for Budget & Box office data conversion\n",
        "\n",
        "amounts=r'thousand|million|billion'\n",
        "pattern= r'\\d+(,\\d{3})*\\.*\\d*'\n",
        "value_re=rf'\\${pattern}'\n",
        "word_re=rf'\\${pattern}(-|\\sto\\s|-)?({pattern})?\\s({amounts})'\n",
        "\n",
        "\n",
        "def word_to_digit(word):\n",
        "  digit_dict={'thousand':1000,'million':1000000,'billion':1000000000}\n",
        "  return digit_dict[word]\n",
        "\n",
        "def parse_word_syntax(string):\n",
        "  value_str=re.search(pattern,string).group()\n",
        "  value=float(value_str.replace(',',''))\n",
        "  word_str=re.search(amounts,string,flags=re.I).group().lower()\n",
        "  word_value=word_to_digit(word_str)\n",
        "  return word_value * value\n",
        "\n",
        "\n",
        "def parse_value_syntax(string):\n",
        "  value_str=re.search(pattern,string).group()\n",
        "  value=float(value_str.replace(',',''))\n",
        "  return value\n",
        "\n",
        "\n",
        "\n",
        "def money_conversion(money):\n",
        "  if money=='N/A':\n",
        "    return None\n",
        "  if isinstance(money,list):\n",
        "    money=money[0]\n",
        "\n",
        "  word_syntax=re.search(word_re,money,flags=re.I)\n",
        "  value_syntax=re.search(value_re,money)\n",
        "\n",
        "  if word_syntax:\n",
        "    return parse_word_syntax(word_syntax.group())\n",
        "\n",
        "  elif value_syntax:\n",
        "    return parse_value_syntax(value_syntax.group())\n",
        "  else:\n",
        "    return None"
      ],
      "metadata": {
        "id": "oXmJZArYHz-B"
      },
      "execution_count": null,
      "outputs": []
    },
    {
      "cell_type": "code",
      "source": [
        "#### Budget & Box office data conversion\n",
        "\n",
        "for movie in movie_info_list:\n",
        "  movie['Budget (float)']=money_conversion(movie.get('Budget','N/A'))\n",
        "  movie['Box office (float)']=money_conversion(movie.get('Box office','N/A'))\n"
      ],
      "metadata": {
        "id": "fx35FsMhf2rQ"
      },
      "execution_count": null,
      "outputs": []
    },
    {
      "cell_type": "code",
      "source": [
        "#### convert date into datetime"
      ],
      "metadata": {
        "id": "i4DJEYFCvFZB"
      },
      "execution_count": null,
      "outputs": []
    },
    {
      "cell_type": "markdown",
      "source": [
        ". Converting Release date data into datetime format/obj"
      ],
      "metadata": {
        "id": "9rLfHWFOm2Yl"
      }
    },
    {
      "cell_type": "code",
      "source": [
        "#### Methods for datetime conversion \n",
        "\n",
        "from datetime import datetime\n",
        "dates=[movie.get('Release date','N/A') for movie in movie_info_list]\n",
        "\n",
        "\n",
        "def clean_date(date):\n",
        "  return date.split('(')[0].strip()\n",
        "\n",
        "def date_conversion(date):\n",
        "  if isinstance(date,list):\n",
        "    date= date[0]\n",
        "\n",
        "  if date=='N/A':\n",
        "    return None\n",
        "\n",
        "  date_str=clean_date(date)\n",
        "  frmts=['%B %d, %Y','%d %B %Y','%B %Y','%Y']\n",
        "\n",
        "  for frmt in frmts:\n",
        "    try:\n",
        "      return datetime.strptime(date_str,frmt)\n",
        "    except:\n",
        "      pass\n",
        "  return None\n"
      ],
      "metadata": {
        "id": "bfoDMoXPNUUa"
      },
      "execution_count": null,
      "outputs": []
    },
    {
      "cell_type": "code",
      "source": [
        "#### converting dates into datetime\n",
        "for movie in movie_info_list:\n",
        "  movie['Release date (datetime)']=date_conversion(movie.get('Release date','N/A'))"
      ],
      "metadata": {
        "id": "oxHfIfrqVAYl"
      },
      "execution_count": null,
      "outputs": []
    },
    {
      "cell_type": "code",
      "source": [
        "# for movie in movie_info_list:\n",
        "#    print(movie.get('Release date (datetime)'),movie.get('Release date'))"
      ],
      "metadata": {
        "id": "llgt4_MsVAmj"
      },
      "execution_count": null,
      "outputs": []
    },
    {
      "cell_type": "code",
      "source": [
        ""
      ],
      "metadata": {
        "id": "_SQsKj51VApN"
      },
      "execution_count": null,
      "outputs": []
    },
    {
      "cell_type": "markdown",
      "source": [
        ". Finally storing the dateset into different file/format"
      ],
      "metadata": {
        "id": "9a3jsWGInFRj"
      }
    },
    {
      "cell_type": "code",
      "source": [
        "#### Method to save data into a file\n",
        "\n",
        "import json\n",
        "def save_data(file_name, data):\n",
        "  try:\n",
        "    with open(file_name,'w',encoding='utf-8') as f:\n",
        "      json.dump(data,f,ensure_ascii=False,indent=2,default=str)\n",
        "  except Exception as e:\n",
        "    print(e)"
      ],
      "metadata": {
        "id": "PWqOFXfMhxn-"
      },
      "execution_count": null,
      "outputs": []
    },
    {
      "cell_type": "code",
      "source": [
        "#### Load JSON file\n",
        "\n",
        "import json\n",
        "\n",
        "def load_data(file_name):\n",
        "  with open(file_name,encoding='utf-8') as f:\n",
        "    return file_name"
      ],
      "metadata": {
        "id": "FJsOaKrQn8D8"
      },
      "execution_count": null,
      "outputs": []
    },
    {
      "cell_type": "code",
      "source": [
        "#### dumping JSON\n",
        "\n",
        "save_data('disney_json_data.json',movie_info_list)"
      ],
      "metadata": {
        "id": "tjEXGSJbYLN8"
      },
      "execution_count": null,
      "outputs": []
    },
    {
      "cell_type": "code",
      "source": [
        "#### Method to dump pickle data\n",
        "\n",
        "import pickle\n",
        "def dump_data_pickle(file,data):\n",
        "  with open(file,'wb') as f:\n",
        "    pickle.dump(data,f)"
      ],
      "metadata": {
        "id": "YTYI9bBoVAr8"
      },
      "execution_count": null,
      "outputs": []
    },
    {
      "cell_type": "code",
      "source": [
        "#### Method to load pickle data\n",
        "\n",
        "import pickle\n",
        "def load_data_pickle(file):\n",
        "  with open(file,'rb') as f:\n",
        "    return pickle.load(f)"
      ],
      "metadata": {
        "id": "oozy-nU2VAuj"
      },
      "execution_count": null,
      "outputs": []
    },
    {
      "cell_type": "code",
      "source": [
        "# Saving pickle data\n",
        "dump_data_pickle('Disney_Pickle_Data.pickle',movie_info_list)"
      ],
      "metadata": {
        "id": "gyui3AerVAxT"
      },
      "execution_count": null,
      "outputs": []
    },
    {
      "cell_type": "code",
      "source": [
        "#### Loading Pickle data\n",
        "\n",
        "df=load_data_pickle('Disney_Pickle_Data.pickle')"
      ],
      "metadata": {
        "id": "gYwn3UqJ06Qj"
      },
      "execution_count": null,
      "outputs": []
    },
    {
      "cell_type": "code",
      "source": [
        "#### Creating DataFrame\n",
        "\n",
        "import pandas as pd\n",
        "df=pd.DataFrame(movie_info_list)\n"
      ],
      "metadata": {
        "id": "g0XLTjP11y9i"
      },
      "execution_count": null,
      "outputs": []
    },
    {
      "cell_type": "code",
      "source": [
        "#### Writing data into CSV file\n",
        "\n",
        "df.to_csv('Disney_csv_Data.csv')"
      ],
      "metadata": {
        "id": "2NWL44Rhh3MP"
      },
      "execution_count": null,
      "outputs": []
    },
    {
      "cell_type": "code",
      "source": [
        ""
      ],
      "metadata": {
        "id": "NZGmTDdBkks1"
      },
      "execution_count": null,
      "outputs": []
    }
  ],
  "metadata": {
    "colab": {
      "name": "Disney_Dataset_Creation",
      "provenance": [],
      "collapsed_sections": [],
      "toc_visible": true,
      "authorship_tag": "ABX9TyNAaYmyLLmN+nvN5FWP8/GD"
    },
    "kernelspec": {
      "display_name": "Python 3",
      "name": "python3"
    },
    "language_info": {
      "name": "python"
    }
  },
  "nbformat": 4,
  "nbformat_minor": 0
}